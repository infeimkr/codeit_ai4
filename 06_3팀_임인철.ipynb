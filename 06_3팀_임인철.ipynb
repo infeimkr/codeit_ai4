{
  "nbformat": 4,
  "nbformat_minor": 0,
  "metadata": {
    "colab": {
      "provenance": [],
      "toc_visible": true,
      "gpuType": "T4",
      "collapsed_sections": [
        "inTuaOk4wcPa",
        "z-CQuyAn3De-"
      ],
      "mount_file_id": "1VU6xig6Qj_-JJ2zZK5_zWzu4PGm6zM4j",
      "authorship_tag": "ABX9TyOkuJXaEHVj5sikq3vC9bQ8",
      "include_colab_link": true
    },
    "kernelspec": {
      "name": "python3",
      "display_name": "Python 3"
    },
    "language_info": {
      "name": "python"
    },
    "accelerator": "GPU"
  },
  "cells": [
    {
      "cell_type": "markdown",
      "metadata": {
        "id": "view-in-github",
        "colab_type": "text"
      },
      "source": [
        "<a href=\"https://colab.research.google.com/github/infeimkr/codeit_ai4/blob/main/06_3%ED%8C%80_%EC%9E%84%EC%9D%B8%EC%B2%A0.ipynb\" target=\"_parent\"><img src=\"https://colab.research.google.com/assets/colab-badge.svg\" alt=\"Open In Colab\"/></a>"
      ]
    },
    {
      "cell_type": "markdown",
      "source": [
        "# 라이브러리 불러오기"
      ],
      "metadata": {
        "id": "te0mAT6N9e0a"
      }
    },
    {
      "cell_type": "code",
      "source": [
        "!pip install torchinfo\n",
        "\n",
        "import sys\n",
        "import os\n",
        "import numpy as np\n",
        "import matplotlib.pyplot as plt\n",
        "import torch.nn as nn\n",
        "import torch.optim as optim\n",
        "import torch\n",
        "import cv2\n",
        "import random\n",
        "from torchvision import datasets, transforms\n",
        "from torch.utils.data import Dataset, DataLoader, random_split, Subset, ConcatDataset, WeightedRandomSampler\n",
        "from torchvision.transforms import v2\n",
        "import torchvision.models as models\n",
        "from torch.optim.lr_scheduler import LambdaLR\n",
        "from PIL import Image, ImageEnhance, ImageFilter\n",
        "import torchvision.transforms.functional as TF\n",
        "import torch.nn.functional as F\n",
        "import math\n",
        "from tqdm import tqdm  # 진행 상황을 표시하기 위한 라이브러리\n",
        "from collections import Counter\n",
        "from torchinfo import summary\n",
        "import time\n",
        "import datetime\n",
        "from sklearn.metrics import accuracy_score, precision_score, recall_score, f1_score, classification_report, confusion_matrix, precision_recall_curve\n",
        "import seaborn as sns\n",
        "from IPython.display import display\n",
        "import pandas as pd\n",
        "from torch.amp import autocast, GradScaler"
      ],
      "metadata": {
        "id": "CtzczxJo-c6k",
        "colab": {
          "base_uri": "https://localhost:8080/"
        },
        "outputId": "eeb58988-f411-4207-b06a-18c8aa3dfb2f"
      },
      "execution_count": 1,
      "outputs": [
        {
          "output_type": "stream",
          "name": "stdout",
          "text": [
            "Requirement already satisfied: torchinfo in c:\\users\\user\\anaconda3\\lib\\site-packages (1.8.0)\n"
          ]
        },
        {
          "output_type": "stream",
          "name": "stderr",
          "text": [
            "WARNING: Ignoring invalid distribution ~umpy (C:\\Users\\User\\anaconda3\\Lib\\site-packages)\n",
            "WARNING: Ignoring invalid distribution ~umpy (C:\\Users\\User\\anaconda3\\Lib\\site-packages)\n",
            "WARNING: Ignoring invalid distribution ~umpy (C:\\Users\\User\\anaconda3\\Lib\\site-packages)\n"
          ]
        }
      ]
    },
    {
      "cell_type": "markdown",
      "source": [
        "# 0. 미션 설명\n",
        "## 미션 소개\n",
        "이번 미션에서는 흉부 X-Ray 사진을 바탕으로 폐렴 환자를 구분하는 작업을 수행합니다. 이번 미션의 목표는 X-Ray 사진을 입력으로 받아 폐렴 여부를 구분하는 분류(Classification) 모델을 만드는 것입니다. 아래 데이터셋을 활용하여 다양한 이미지 전처리 및 증강 기법과 Transfer Learning과 Fine-Tuning 기법을 실험해보고, 모델의 성능을 평가해 보세요.\n",
        "\n",
        "## 데이터 소개\n",
        "- 데이터 링크(Chest X-Ray Images (Pneumonia))\n",
        "- train: 훈련 데이터\n",
        "- test: 테스트 데이터\n",
        "- val: 검증 데이터"
      ],
      "metadata": {
        "id": "71nbuBU0-fkL"
      }
    },
    {
      "cell_type": "markdown",
      "source": [
        "# 1. 데이터 불러오기 및 검토"
      ],
      "metadata": {
        "id": "28YBIvkJKNQ0"
      }
    },
    {
      "cell_type": "code",
      "execution_count": 2,
      "metadata": {
        "colab": {
          "base_uri": "https://localhost:8080/"
        },
        "id": "p89iHsfs9LNV",
        "outputId": "8b729112-1640-466c-a2d9-c40d81e052d3"
      },
      "outputs": [
        {
          "output_type": "stream",
          "name": "stdout",
          "text": [
            "로컬 런타임 환경\n"
          ]
        }
      ],
      "source": [
        "if 'COLAB_RELEASE_TAG' in os.environ:\n",
        "    check_google_colab = True\n",
        "    print(\"온라인 Colab 환경(Google 서버)\")\n",
        "else:\n",
        "    check_google_colab = False\n",
        "    print(\"로컬 런타임 환경\")"
      ]
    },
    {
      "cell_type": "code",
      "source": [
        "try:\n",
        "    from google.colab import drive\n",
        "    drive.mount('/content/drive')\n",
        "    check_google_colab = True\n",
        "    sub_path = \"/content/drive/MyDrive/Colab Notebooks/코드잇스프린트자료/미션/미션DATA/미션6DATA\"\n",
        "    print(\"Google Colab 환경입니다.\")\n",
        "except ModuleNotFoundError:\n",
        "    check_google_colab = False\n",
        "    sub_path = \"C:/Users/User/Google Drive 스트리밍/내 드라이브/Colab Notebooks/코드잇스프린트자료/미션/미션DATA/미션6DATA\"\n",
        "    print(\"Local 환경입니다.\")"
      ],
      "metadata": {
        "colab": {
          "base_uri": "https://localhost:8080/"
        },
        "id": "-tpUidT4-xzT",
        "outputId": "1b70ae4b-4728-48c5-9315-5dcbb49e7010"
      },
      "execution_count": 3,
      "outputs": [
        {
          "output_type": "stream",
          "name": "stdout",
          "text": [
            "Local 환경입니다.\n"
          ]
        }
      ]
    },
    {
      "cell_type": "code",
      "source": [
        "# 폴더 경로 설정\n",
        "if check_google_colab:\n",
        "    train_dir = sub_path+\"/train\"\n",
        "    val_dir = sub_path+\"/val\"\n",
        "    test_dir = sub_path+\"/test\"\n",
        "else:\n",
        "    train_dir = sub_path+\"/train\"\n",
        "    val_dir = sub_path+\"/val\"\n",
        "    test_dir = sub_path+\"/test\"\n",
        "\n",
        "print(train_dir)"
      ],
      "metadata": {
        "colab": {
          "base_uri": "https://localhost:8080/"
        },
        "id": "kC5FonRoOe6l",
        "outputId": "deae1c82-2b4c-410f-98cd-f32ac2852040"
      },
      "execution_count": 4,
      "outputs": [
        {
          "output_type": "stream",
          "name": "stdout",
          "text": [
            "C:/Users/User/Google Drive 스트리밍/내 드라이브/Colab Notebooks/코드잇스프린트자료/미션/미션DATA/미션6DATA/train\n"
          ]
        }
      ]
    },
    {
      "cell_type": "code",
      "source": [
        "# num_workers 설정을 위해 클래스 모듈화 불러오기\n",
        "if sub_path not in sys.path:\n",
        "    sys.path.append(sub_path)\n",
        "    print(f\"경로 추가: {sub_path}\")\n",
        "\n",
        "try:\n",
        "    from xray_sampler_TransformDataset import TransformDataset\n",
        "    print(f\"모듈 임포트 성공\")\n",
        "except ImportError as e:\n",
        "    print(f\"모듈 임포트 중 오류가 발생했습니다: {e}\")\n",
        "    print(f\"경로를 확인해주세요: {sub_path}\")"
      ],
      "metadata": {
        "id": "aOYCxkBxnzy6",
        "colab": {
          "base_uri": "https://localhost:8080/"
        },
        "outputId": "90f65758-1c22-4448-f098-d31a9968e967"
      },
      "execution_count": 5,
      "outputs": [
        {
          "output_type": "stream",
          "name": "stdout",
          "text": [
            "경로 추가: C:/Users/User/Google Drive 스트리밍/내 드라이브/Colab Notebooks/코드잇스프린트자료/미션/미션DATA/미션6DATA\n",
            "모듈 임포트 성공\n"
          ]
        }
      ]
    },
    {
      "cell_type": "markdown",
      "source": [
        " - 각 폴더별로 이미지 갯수와 최대 최소 사이즈, 채널 수를 확인합니다."
      ],
      "metadata": {
        "id": "PcUVb8HawAHo"
      }
    },
    {
      "cell_type": "markdown",
      "source": [
        "### 전처리 확인용 셀. 결과 확인 후 주석 처리"
      ],
      "metadata": {
        "id": "inTuaOk4wcPa"
      }
    },
    {
      "cell_type": "code",
      "source": [
        "# #### 결과 확인 후 주석처리\n",
        "# def summarize_image_sizes(root_folder):\n",
        "#     summary = {}\n",
        "\n",
        "#     for label_folder in os.listdir(root_folder):\n",
        "#         folder_path = os.path.join(root_folder, label_folder)\n",
        "#         if not os.path.isdir(folder_path):\n",
        "#             continue\n",
        "\n",
        "#         img_files = [f for f in os.listdir(folder_path) if f.lower().endswith(\".jpeg\")]\n",
        "#         if not img_files:\n",
        "#             continue\n",
        "\n",
        "#         heights, widths, ratios, channels = [], [], [], []\n",
        "#         for f in img_files:\n",
        "#             img_path = os.path.join(folder_path, f)\n",
        "#             img_data = np.fromfile(img_path, dtype=np.uint8)\n",
        "#             img = cv2.imdecode(img_data, cv2.IMREAD_COLOR)\n",
        "#             if img is None:\n",
        "#                 continue\n",
        "\n",
        "#             h, w = img.shape[:2]\n",
        "#             heights.append(h)\n",
        "#             widths.append(w)\n",
        "#             ratios.append(w / h)\n",
        "#             if len(img.shape) == 2:   # 흑백\n",
        "#                 channels.append(1)\n",
        "#             else:                     # 컬러 또는 알파 포함\n",
        "#                 channels.append(img.shape[2])\n",
        "\n",
        "#         if not heights or not widths:\n",
        "#             continue\n",
        "\n",
        "#         summary[label_folder] = {\n",
        "#             \"num_images\": len(heights),\n",
        "#             \"height_min\": int(np.min(heights)),\n",
        "#             \"height_max\": int(np.max(heights)),\n",
        "#             \"ratio_mean\": round(float(np.mean(ratios)),2),\n",
        "#             \"ratio_std\": round(float(np.std(ratios)),2),\n",
        "#             \"width_min\": int(np.min(widths)),\n",
        "#             \"width_max\": int(np.max(widths)),\n",
        "#             \"channels_set\": list(set(channels)),\n",
        "#         }\n",
        "\n",
        "#     return summary\n",
        "\n",
        "# train_stats = summarize_image_sizes(train_dir)\n",
        "# val_stats   = summarize_image_sizes(val_dir)\n",
        "# test_stats  = summarize_image_sizes(test_dir)"
      ],
      "metadata": {
        "id": "0VzEoRlOeBdn"
      },
      "execution_count": 6,
      "outputs": []
    },
    {
      "cell_type": "code",
      "source": [
        "#### 결과 확인 후 주석처리\n",
        "# print(\"Train_img_summary---------\")\n",
        "# for folder in sorted(train_stats.keys()):\n",
        "#     info = train_stats[folder]\n",
        "#     print(f\"{folder}: {info}\")\n",
        "\n",
        "# print(\"\\nval_img_summary--------\")\n",
        "# for folder in sorted(val_stats.keys()):\n",
        "#     info = val_stats[folder]\n",
        "#     print(f\"{folder}: {info}\")\n",
        "\n",
        "# print(\"\\ntest_img_summary---------\")\n",
        "# for folder in sorted(test_stats.keys()):\n",
        "#     info = test_stats[folder]\n",
        "#     print(f\"{folder}: {info}\")"
      ],
      "metadata": {
        "id": "_zviap4ccUQn"
      },
      "execution_count": 7,
      "outputs": []
    },
    {
      "cell_type": "markdown",
      "source": [
        "### 정보 서머리 코드 결과값\n",
        "Train_img_summary---------\n",
        "NORMAL: {'num_images': 1341, 'height_min': 672, 'height_max': 2663, 'ratio_mean': 1.23, 'ratio_std': 0.13, 'width_min': 912, 'width_max': 2916, 'channels_set': [3]}\n",
        "PNEUMONIA: {'num_images': 3875, 'height_min': 127, 'height_max': 2304, 'ratio_mean': 1.51, 'ratio_std': 0.25, 'width_min': 384, 'width_max': 2772, 'channels_set': [3]}\n",
        "\n",
        "val_img_summary--------\n",
        "NORMAL: {'num_images': 8, 'height_min': 928, 'height_max': 1416, 'ratio_mean': 1.24, 'ratio_std': 0.08, 'width_min': 1240, 'width_max': 1776, 'channels_set': [3]}\n",
        "PNEUMONIA: {'num_images': 8, 'height_min': 592, 'height_max': 1128, 'ratio_mean': 1.51, 'ratio_std': 0.13, 'width_min': 968, 'width_max': 1664, 'channels_set': [3]}\n",
        "\n",
        "test_img_summary---------\n",
        "NORMAL: {'num_images': 234, 'height_min': 496, 'height_max': 2713, 'ratio_mean': 1.37, 'ratio_std': 0.21, 'width_min': 984, 'width_max': 2752, 'channels_set': [3]}\n",
        "PNEUMONIA: {'num_images': 390, 'height_min': 344, 'height_max': 1456, 'ratio_mean': 1.53, 'ratio_std': 0.22, 'width_min': 728, 'width_max': 2000, 'channels_set': [3]}"
      ],
      "metadata": {
        "id": "reDjxUEVwHeq"
      }
    },
    {
      "cell_type": "markdown",
      "source": [
        "### 전처리 계획\n",
        "1. val가 16장 밖에 안되서, train 에서 일부 가져와서 적용 (8:2)\n",
        "2. 학습 데이터 불균형 Train_N:Train_P = 1341:3875 -> WeightedRandomSampler 적용\n",
        "3. 들쭉날쭉한 사이즈에 맞춰 256으로 스케일링 후, train은 랜덤 크롭 224, val/test는 센터 크롭 224 적용\n"
      ],
      "metadata": {
        "id": "n9GKCv4VtrOp"
      }
    },
    {
      "cell_type": "markdown",
      "source": [
        "#### 전처리 수치 선언"
      ],
      "metadata": {
        "id": "7y_J0KXAKSVn"
      }
    },
    {
      "cell_type": "code",
      "source": [
        "RAW_RESIZE = 256\n",
        "CROP_SIZE = 224\n",
        "EXTRA_VAL_RATE = 0.2\n",
        "RANDOM_ROTATION = 5"
      ],
      "metadata": {
        "id": "Rc9pVITRINMP"
      },
      "execution_count": 8,
      "outputs": []
    },
    {
      "cell_type": "markdown",
      "source": [
        "# 2. 데이터 전처리"
      ],
      "metadata": {
        "id": "3qnz4jSeHPwF"
      }
    },
    {
      "cell_type": "code",
      "source": [
        "# 첫 로드 리사이즈\n",
        "base_transform = transforms.Resize((RAW_RESIZE))\n",
        "\n",
        "# raw 데이터셋 - ImageFolder 사용\n",
        "train_dataset_raw = datasets.ImageFolder(train_dir, transform=base_transform)\n",
        "val_dataset_raw   = datasets.ImageFolder(val_dir, transform=base_transform)\n",
        "test_dataset_raw  = datasets.ImageFolder(test_dir, transform=base_transform)\n",
        "\n",
        "# 데이터셋 카운트\n",
        "train_targets = [label for _, label in train_dataset_raw.samples]\n",
        "train_counts = Counter(train_targets)\n",
        "\n",
        "val_targets = [label for _, label in val_dataset_raw.samples]\n",
        "val_counts = Counter(val_targets)\n",
        "\n",
        "test_targets = [label for _, label in test_dataset_raw.samples]\n",
        "test_counts = Counter(test_targets)\n",
        "\n",
        "print(\"train raw:\", {k: train_counts[k] for k in sorted(train_counts.keys())})\n",
        "print(\"val raw:\", {k: val_counts[k] for k in sorted(val_counts.keys())})\n",
        "print(\"test raw:\", {k: test_counts[k] for k in sorted(test_counts.keys())})"
      ],
      "metadata": {
        "colab": {
          "base_uri": "https://localhost:8080/"
        },
        "id": "hKhqBxqgHPGv",
        "outputId": "ce314986-0288-4e73-9909-2b5430682bc5"
      },
      "execution_count": 9,
      "outputs": [
        {
          "output_type": "stream",
          "name": "stdout",
          "text": [
            "train raw: {0: 1341, 1: 3875}\n",
            "val raw: {0: 8, 1: 8}\n",
            "test raw: {0: 234, 1: 390}\n"
          ]
        }
      ]
    },
    {
      "cell_type": "markdown",
      "source": [
        "- train raw 데이터에서 test raw 데이터의 비율로 var로 옮기기"
      ],
      "metadata": {
        "id": "JCCpTbdEpU45"
      }
    },
    {
      "cell_type": "code",
      "source": [
        "# test raw 비율로 train 데이터셋에서 extra var 가져오기\n",
        "train_targets_arr = np.array([label for _, label in train_dataset_raw.samples])\n",
        "\n",
        "normal_idx = np.where(train_targets_arr == 0)[0]\n",
        "pneumonia_idx = np.where(train_targets_arr == 1)[0]\n",
        "\n",
        "test_normal = test_counts[0]\n",
        "test_pneumonia = test_counts[1]\n",
        "\n",
        "ratio_normal = test_normal / (test_normal + test_pneumonia)\n",
        "ratio_pneumonia = test_pneumonia / (test_normal + test_pneumonia)\n",
        "\n",
        "# extra val 크기 (normal 기준으로 뽑기)\n",
        "extra_val_normal_count = int(len(normal_idx) * EXTRA_VAL_RATE)\n",
        "extra_val_pneumonia_count = int(extra_val_normal_count * (ratio_pneumonia / ratio_normal))\n",
        "\n",
        "extra_val_normal_idx = np.random.choice(normal_idx, extra_val_normal_count, replace=False)\n",
        "extra_val_pneumonia_idx = np.random.choice(pneumonia_idx, extra_val_pneumonia_count, replace=False)\n",
        "\n",
        "extra_val_idx = np.concatenate([extra_val_normal_idx, extra_val_pneumonia_idx])\n",
        "np.random.shuffle(extra_val_idx)\n",
        "\n",
        "# train_idx = extra val 외 나머지 인덱스\n",
        "train_idx = np.array([i for i in range(len(train_targets_arr)) if i not in extra_val_idx])\n",
        "\n",
        "train_dataset = Subset(train_dataset_raw, train_idx)\n",
        "extra_val_dataset = Subset(train_dataset_raw, extra_val_idx)\n",
        "\n",
        "# val 데이터셋\n",
        "val_dataset = ConcatDataset([val_dataset_raw, extra_val_dataset])\n",
        "\n",
        "# 데이터셋 카운트\n",
        "train_subset_labels = [train_dataset_raw.targets[i] for i in train_dataset.indices]\n",
        "train_counts = Counter(train_subset_labels)\n",
        "\n",
        "val_subset_labels = []\n",
        "val_subset_labels += val_dataset_raw.targets\n",
        "val_subset_labels += [train_dataset_raw.targets[i] for i in extra_val_dataset.indices]\n",
        "val_counts = Counter(val_subset_labels)\n",
        "\n",
        "print(\"train:\", {k: train_counts[k] for k in sorted(train_counts.keys())})\n",
        "print(\"val:\",   {k: val_counts[k] for k in sorted(val_counts.keys())})\n",
        "print(\"test:\",  {k: test_counts[k] for k in sorted(test_counts.keys())})"
      ],
      "metadata": {
        "id": "igX79OaRQNWG",
        "colab": {
          "base_uri": "https://localhost:8080/"
        },
        "outputId": "4013e715-3e70-4c65-fed8-f9ec697f2b1a"
      },
      "execution_count": 10,
      "outputs": [
        {
          "output_type": "stream",
          "name": "stdout",
          "text": [
            "train: {0: 1073, 1: 3429}\n",
            "val: {0: 276, 1: 454}\n",
            "test: {0: 234, 1: 390}\n"
          ]
        }
      ]
    },
    {
      "cell_type": "code",
      "source": [
        "# 환경에 따라 배치 사이즈 변경\n",
        "if check_google_colab:\n",
        "    batch_size = 128\n",
        "else:\n",
        "    batch_size = 64"
      ],
      "metadata": {
        "id": "UMKE27FVGXgj"
      },
      "execution_count": 11,
      "outputs": []
    },
    {
      "cell_type": "code",
      "source": [
        "# 트랜스폼\n",
        "train_transform = v2.Compose([\n",
        "    v2.RandomResizedCrop(CROP_SIZE,\n",
        "                         scale=(0.9, 1.0),\n",
        "                         antialias=True),\n",
        "#    v2.RandomHorizontalFlip(), # 의료용이라 삭제 처리\n",
        "#    v2.RandomRotation(RANDOM_ROTATION), # 5\n",
        "    v2.RandomAffine(degrees=RANDOM_ROTATION, translate=(0.05, 0.05)),\n",
        "#    v2.ColorJitter(brightness=0.1, contrast=0.1),\n",
        "    v2.ToImage(),\n",
        "    v2.ToDtype(torch.float32, scale=True),\n",
        "    v2.Normalize(mean=[0.485, 0.456, 0.406],\n",
        "                   std=[0.229, 0.224, 0.225]),\n",
        "])\n",
        "\n",
        "val_test_transform = v2.Compose([\n",
        "    v2.CenterCrop(CROP_SIZE),\n",
        "    v2.ToImage(),\n",
        "    v2.ToDtype(torch.float32, scale=True),\n",
        "    v2.Normalize(mean=[0.485, 0.456, 0.406],\n",
        "                   std=[0.229, 0.224, 0.225]),\n",
        "])\n",
        "\n",
        "# num_workers 오류 해결을 위해 xray_sampler_TransformDataset.py로 옮김\n",
        "# class TransformDataset(torch.utils.data.Dataset):\n",
        "#     def __init__(self, subset, transform=None):\n",
        "#         self.subset = subset\n",
        "#         self.transform = transform\n",
        "#     def __getitem__(self, idx):\n",
        "#         img, label = self.subset[idx]\n",
        "#         if self.transform:\n",
        "#             img = self.transform(img)\n",
        "#         return img, label\n",
        "#     def __len__(self):\n",
        "#         return len(self.subset)\n",
        "\n",
        "train_dataset_final = TransformDataset(train_dataset, transform=train_transform)\n",
        "val_dataset_final = TransformDataset(val_dataset, transform=val_test_transform)\n",
        "test_dataset_final = TransformDataset(test_dataset_raw, transform=val_test_transform)\n",
        "\n",
        "targets = [label for _, label in train_dataset_final]\n",
        "class_counts = np.bincount(targets)\n",
        "class_weights = 1. / class_counts\n",
        "sample_weights = [class_weights[t] for t in targets]\n",
        "sampler = WeightedRandomSampler(sample_weights, num_samples=len(sample_weights), replacement=True)\n",
        "\n",
        "# DataLoader\n",
        "train_loader = DataLoader(train_dataset_final, batch_size, sampler=sampler, num_workers=6, pin_memory=True, persistent_workers=True)\n",
        "val_loader = DataLoader(val_dataset_final, batch_size, shuffle=False, num_workers=6, pin_memory=True, persistent_workers=True)\n",
        "test_loader = DataLoader(test_dataset_final, batch_size, shuffle=False, num_workers=6, pin_memory=True, persistent_workers=True)\n",
        "\n",
        "print(\"Train:\", len(train_dataset_final))\n",
        "print(\"Val:\", len(val_dataset_final))\n",
        "print(\"Test:\", len(test_dataset_final))"
      ],
      "metadata": {
        "colab": {
          "base_uri": "https://localhost:8080/"
        },
        "id": "L9JdAkZzpxQR",
        "outputId": "049e894d-8334-4375-90a2-d672382cc9a1"
      },
      "execution_count": 12,
      "outputs": [
        {
          "output_type": "stream",
          "name": "stdout",
          "text": [
            "Train: 4502\n",
            "Val: 730\n",
            "Test: 624\n"
          ]
        }
      ]
    },
    {
      "cell_type": "code",
      "source": [
        "# 테스트 1 에폭, train_loader 라벨 밸런스 확인용\n",
        "def count_sampled_labels(dataloader):\n",
        "    counts = Counter()\n",
        "    for _, labels in tqdm(dataloader, leave=True, desc='Sampled'):\n",
        "        counts.update(labels.tolist())\n",
        "    return counts\n",
        "\n",
        "sampled_train_counts = count_sampled_labels(train_loader)\n",
        "\n",
        "print(\"\\nSampled train labels:\", sampled_train_counts)"
      ],
      "metadata": {
        "colab": {
          "base_uri": "https://localhost:8080/"
        },
        "id": "1Va_WW1wsga5",
        "outputId": "31e22e1a-d772-4fbb-ec2d-2caffa0df30d"
      },
      "execution_count": 13,
      "outputs": [
        {
          "output_type": "stream",
          "name": "stderr",
          "text": [
            "Sampled: 100%|█████████████████████████████████████████████████████████████████████████| 71/71 [00:50<00:00,  1.40it/s]"
          ]
        },
        {
          "output_type": "stream",
          "name": "stdout",
          "text": [
            "\n",
            "Sampled train labels: Counter({0: 2326, 1: 2176})\n"
          ]
        },
        {
          "output_type": "stream",
          "name": "stderr",
          "text": [
            "\n"
          ]
        }
      ]
    },
    {
      "cell_type": "markdown",
      "source": [
        "- train_dataset_final 내에 label 별로 대략 1:1 비율 확인"
      ],
      "metadata": {
        "id": "etRAruJvq8qC"
      }
    },
    {
      "cell_type": "markdown",
      "source": [
        "# 3. 모델링\n"
      ],
      "metadata": {
        "id": "tEnRoNG643fq"
      }
    },
    {
      "cell_type": "code",
      "source": [
        "device = torch.device(\"cuda\" if torch.cuda.is_available() else \"cpu\")\n",
        "print(device)"
      ],
      "metadata": {
        "colab": {
          "base_uri": "https://localhost:8080/"
        },
        "id": "mEt7m86BGGaj",
        "outputId": "7558a9ab-a395-423f-9280-9526097c1804"
      },
      "execution_count": 14,
      "outputs": [
        {
          "output_type": "stream",
          "name": "stdout",
          "text": [
            "cuda\n"
          ]
        }
      ]
    },
    {
      "cell_type": "markdown",
      "source": [
        "### 1) model_simpleCNN\n",
        "- SimpleCNN\n",
        "    -> 이진 분류 from Scratch (확인용)"
      ],
      "metadata": {
        "id": "n0jrY8uZ6Wai"
      }
    },
    {
      "cell_type": "code",
      "source": [
        "class SimpleCNN(nn.Module):\n",
        "    def __init__(self, num_classes=2, dropout_p=0.5):  # dropout 확률 기본 0.5\n",
        "        super(SimpleCNN, self).__init__()\n",
        "        self.conv1 = nn.Conv2d(3, 32, kernel_size=3, padding=1)\n",
        "        self.conv2 = nn.Conv2d(32, 64, kernel_size=3, padding=1)\n",
        "        self.pool = nn.MaxPool2d(2, 2)\n",
        "\n",
        "        self.fc1 = nn.Linear(64 * (CROP_SIZE // 4) * (CROP_SIZE // 4), 128)\n",
        "        self.fc2 = nn.Linear(128, num_classes)\n",
        "\n",
        "        # Dropout\n",
        "        self.dropout_conv = nn.Dropout(p=dropout_p/2)\n",
        "        self.dropout_fc = nn.Dropout(p=dropout_p)\n",
        "\n",
        "    def forward(self, x):\n",
        "        x = self.pool(F.relu(self.conv1(x)))\n",
        "        x = self.dropout_conv(x)                       # conv2 앞 dropout\n",
        "\n",
        "        x = self.pool(F.relu(self.conv2(x)))\n",
        "        x = self.dropout_conv(x)                       # conv 블록마다 dropout\n",
        "\n",
        "        x = x.view(x.size(0), -1)\n",
        "        x = F.relu(self.fc1(x))\n",
        "        x = self.dropout_fc(x)                         # fully connected 앞 dropout\n",
        "        x = self.fc2(x)\n",
        "        return x"
      ],
      "metadata": {
        "id": "iru6UG6X09sS"
      },
      "execution_count": 15,
      "outputs": []
    },
    {
      "cell_type": "markdown",
      "source": [
        "### 2) Transfer Learning (resNet18)\n",
        "    -> resNet18 기반"
      ],
      "metadata": {
        "id": "J-KLmXvo6ZsK"
      }
    },
    {
      "cell_type": "markdown",
      "source": [
        "#### 2-1) model_resNet18_FE\n",
        "- resNet 18 + IMAGENET1K_V1 - Feature Extractor -> Frozen"
      ],
      "metadata": {
        "id": "T7J8MMup6fBS"
      }
    },
    {
      "cell_type": "code",
      "source": [
        "def get_resnet_feature_extraction(num_classes=2):\n",
        "    model = models.resnet18(weights=\"IMAGENET1K_V1\")\n",
        "    for param in model.parameters():\n",
        "        param.requires_grad = False   # freeze 모든 conv layer\n",
        "\n",
        "    model.fc = nn.Linear(model.fc.in_features, num_classes)  # classifier 교체\n",
        "    return model"
      ],
      "metadata": {
        "id": "An6cOyxzsX26"
      },
      "execution_count": 16,
      "outputs": []
    },
    {
      "cell_type": "markdown",
      "source": [
        "#### 2-2) model_resNet18_P\n",
        "- resNet 18 + IMAGENET1K_V1 - Partial -> unfreeze layer4, fs 앞에 약한 드랍아웃추가"
      ],
      "metadata": {
        "id": "boV9Bces6mxD"
      }
    },
    {
      "cell_type": "code",
      "source": [
        "def get_resnet_partial(num_classes=2, unfreeze_from_layer=4):\n",
        "    model = models.resnet18(weights=\"IMAGENET1K_V1\")\n",
        "    for param in model.parameters():\n",
        "        param.requires_grad = False   # freeze 모든 conv layer\n",
        "\n",
        "    for param in model.layer4.parameters(): # unfreeze layer 4\n",
        "        param.requires_grad = True\n",
        "\n",
        "    model.fc = nn.Sequential(\n",
        "        nn.Dropout(p=0.25),\n",
        "        nn.Linear(model.fc.in_features, 2)\n",
        "    )  # classifier 교체\n",
        "    return model"
      ],
      "metadata": {
        "id": "tSUPU1cX6gg6"
      },
      "execution_count": 17,
      "outputs": []
    },
    {
      "cell_type": "markdown",
      "source": [
        "#### 2-3) model_resNet18_FT\n",
        "- resNet 18 + IMAGENET1K_V1 - Fine-tuning"
      ],
      "metadata": {
        "id": "8bo57UA_6qAJ"
      }
    },
    {
      "cell_type": "code",
      "source": [
        "def get_resnet_finetune(num_classes=2):\n",
        "    model = models.resnet18(weights=\"IMAGENET1K_V1\")\n",
        "    for param in model.parameters():\n",
        "        param.requires_grad = True   # unfreeze 모든 conv layer\n",
        "\n",
        "    model.fc = nn.Linear(model.fc.in_features, num_classes)  # classifier 교체\n",
        "    return model"
      ],
      "metadata": {
        "id": "z07qVY236whh"
      },
      "execution_count": 18,
      "outputs": []
    },
    {
      "cell_type": "markdown",
      "source": [
        "### 3) 모델 선언 및 학습 진행"
      ],
      "metadata": {
        "id": "QrDuBphUMDlr"
      }
    },
    {
      "cell_type": "code",
      "source": [
        "# 학습 시각화\n",
        "def plot_loss_acc(train_losses, train_accs, val_losses, val_accs, model_title=None):\n",
        "    epochs = range(1, len(train_losses) + 1)\n",
        "    plt.figure(figsize=(8,4))\n",
        "    plt.suptitle(model_title)\n",
        "    plt.subplot(1,2,1)\n",
        "    plt.plot(epochs, train_losses, label='Train Loss')\n",
        "    plt.plot(epochs, val_losses, label='Val Loss')\n",
        "    plt.xlabel('Epoch')\n",
        "    plt.ylabel('Loss')\n",
        "    plt.xticks(np.arange(1, len(epochs) + 1, max(1, len(epochs) // 15)), rotation=45, fontsize=6)\n",
        "    plt.legend()\n",
        "    plt.title(\"Loss Curve\")\n",
        "\n",
        "    plt.subplot(1,2,2)\n",
        "    plt.plot(epochs, train_accs, label='Train Acc')\n",
        "    plt.plot(epochs, val_accs, label='Val Acc')\n",
        "    plt.xlabel('Epoch')\n",
        "    plt.ylabel('Accuracy')\n",
        "    plt.xticks(np.arange(1, len(epochs) + 1, max(1, len(epochs) // 15)), rotation=45, fontsize=6)\n",
        "    plt.legend()\n",
        "    plt.title(\"Accuracy Curve\")\n",
        "\n",
        "    plt.tight_layout()\n",
        "    plt.show()"
      ],
      "metadata": {
        "id": "ULZWzTVpWcx8"
      },
      "execution_count": 19,
      "outputs": []
    },
    {
      "cell_type": "markdown",
      "source": [
        " - 의료 자료 판단이라 False Negative 가 늘어나는 위험성이 있는 부분은 인지하고 있으나, 몇 번의 튜닝에도 Normal을 Pneumonia로 판단하는 False Positive가 높아서, 검증겸 테스트 목적으로 손실 가중치를 Normal에 더 크게 부여하여 재학습 시도 -> loss가 너무 튀어서 제거 처리"
      ],
      "metadata": {
        "id": "pQSGQysy47vI"
      }
    },
    {
      "cell_type": "code",
      "source": [
        "# 학습 & 검증 루프\n",
        "# [Normal, Pneumonia] 가중치: Normal을 더 무겁게\n",
        "# class_weights = torch.tensor([2.0, 1.0], device=device)\n",
        "# criterion_train = torch.nn.CrossEntropyLoss(weight=class_weights) //테스트 후 제거\n",
        "criterion_train = torch.nn.CrossEntropyLoss(label_smoothing=0.05)\n",
        "criterion_val = torch.nn.CrossEntropyLoss()\n",
        "\n",
        "num_classes = 2 # 이진분류\n",
        "# def get_lrs(optimizer):\n",
        "#     return [pg[\"lr\"] for pg in optimizer.param_groups]\n",
        "\n",
        "def train_model(\n",
        "    model, train_loader, val_loader, optimizer,\n",
        "    epochs=10, model_title=None, scheduler=None, grad_clip=None,\n",
        "    min_epochs=5, patience=10, min_delta=2e-3,\n",
        "):\n",
        "    scaler = GradScaler(\"cuda\")\n",
        "    best_val = float(\"inf\")\n",
        "    best_state = None\n",
        "    best_epoch = 0\n",
        "    wait = 0\n",
        "\n",
        "    global_step = 0\n",
        "\n",
        "    train_losses, train_accs, val_losses, val_accs = [], [], [], []\n",
        "    print_learning_time = 0\n",
        "    total_learning_time = 0\n",
        "\n",
        "    model = model.to(device)\n",
        "\n",
        "    for epoch in range(epochs):\n",
        "        start_time = time.time()  # epoch 시작 시간\n",
        "\n",
        "        # Train ===============\n",
        "        model.train()\n",
        "        if model_title in ('resNet18 (Frozen)', 'resNet18 (Partial)'): # batchNorm2d 통계값 강제 블록킹\n",
        "            set_frozen_blocks_eval(model, model_title)\n",
        "\n",
        "        running_loss, correct, total = 0.0, 0, 0\n",
        "\n",
        "        for inputs, labels in tqdm(train_loader, leave=False, desc='Train'):\n",
        "            inputs, labels = inputs.to(device), labels.to(device)\n",
        "\n",
        "            optimizer.zero_grad(set_to_none=True)\n",
        "            with autocast(\"cuda\"):\n",
        "                outputs = model(inputs)\n",
        "                loss = criterion_train(outputs, labels)\n",
        "\n",
        "            scaler.scale(loss).backward()\n",
        "\n",
        "            if grad_clip is not None:\n",
        "                scaler.unscale_(optimizer)\n",
        "                torch.nn.utils.clip_grad_norm_(model.parameters(), grad_clip)\n",
        "\n",
        "            scaler.step(optimizer)\n",
        "            scaler.update()\n",
        "\n",
        "            if scheduler is not None and (epoch > 0 or total > 0):  # 첫 배치만 skip\n",
        "                scheduler.step()\n",
        "\n",
        "            running_loss += loss.item() * inputs.size(0)\n",
        "            _, preds = torch.max(outputs, 1)\n",
        "            correct += (preds == labels).sum().item()\n",
        "            total += labels.size(0)\n",
        "\n",
        "        epoch_loss = running_loss / total\n",
        "        epoch_acc = correct / total * 100\n",
        "        train_losses.append(epoch_loss)\n",
        "        train_accs.append(epoch_acc)\n",
        "\n",
        "        # Validation ===========\n",
        "        model.eval()\n",
        "        running_loss, val_correct, val_total = 0.0, 0, 0\n",
        "        with torch.no_grad():\n",
        "            with autocast(\"cuda\"):\n",
        "                for inputs, labels in tqdm(val_loader, leave=False, desc='Val'):\n",
        "                    inputs, labels = inputs.to(device), labels.to(device)\n",
        "                    outputs = model(inputs)\n",
        "\n",
        "                    loss = criterion_val(outputs, labels)\n",
        "                    running_loss += loss.item() * inputs.size(0)\n",
        "                    _, preds = torch.max(outputs, 1)\n",
        "                    val_correct += (preds == labels).sum().item()\n",
        "                    val_total += labels.size(0)\n",
        "\n",
        "        epoch_val_loss = running_loss / max(val_total, 1)\n",
        "        val_acc = 100.0 * val_correct / max(val_total, 1)\n",
        "        val_losses.append(epoch_val_loss)\n",
        "        val_accs.append(val_acc)\n",
        "\n",
        "        elapsed = time.time() - start_time\n",
        "        print_learning_time += elapsed\n",
        "        total_learning_time += elapsed\n",
        "\n",
        "        # Log ====================\n",
        "        curr_lrs = [\"{:.2e}\".format(pg[\"lr\"]) for pg in optimizer.param_groups]\n",
        "        print(f\"\\rEpoch {epoch+1}/{epochs} | \"\n",
        "            f\"Train Loss: {epoch_loss:.4f} | Train Acc: {epoch_acc:.2f}% | \"\n",
        "            f\"Val Loss: {epoch_val_loss:.4f} | Val Acc: {val_acc:.2f}% | \"\n",
        "            f\"LRs: {curr_lrs} | \",\n",
        "            f\"Processing Time: {print_learning_time:.1f}s | \",\n",
        "              end=\"\\n\")\n",
        "        print_learning_time = 0\n",
        "\n",
        "        # Early Stop ==============\n",
        "        improved = (best_val - epoch_val_loss) > min_delta\n",
        "        if improved:\n",
        "            best_val = epoch_val_loss\n",
        "            best_state = {k: v.cpu() for k, v in model.state_dict().items()}\n",
        "            best_epoch = epoch + 1\n",
        "            wait = 0\n",
        "        else:\n",
        "            wait += 1\n",
        "            # 최소 에폭을 채운 뒤에만 early stop 판단\n",
        "            if (epoch + 1) >= min_epochs and wait >= patience:\n",
        "                print(f\"Early stopping at epoch {epoch+1}\")\n",
        "                break\n",
        "\n",
        "    # 성능 모델 복원\n",
        "    if best_state is not None:\n",
        "        model.load_state_dict({k: v.to(device) for k, v in best_state.items()})\n",
        "\n",
        "    elapsed_str = str(datetime.timedelta(seconds=int(total_learning_time))) + f\" (epoch {epoch+1})\"\n",
        "    print(f\"Total Learning Time: {elapsed_str} | Best epoch: {best_epoch}\")\n",
        "    plot_loss_acc(train_losses, train_accs, val_losses, val_accs, model_title)\n",
        "\n",
        "    return {\n",
        "        \"model_title\": model_title,\n",
        "        \"elapsed\": elapsed_str,\n",
        "        \"train_losses\": train_losses,\n",
        "        \"train_accs\": train_accs,\n",
        "        \"val_losses\": val_losses,\n",
        "        \"val_accs\": val_accs\n",
        "    }"
      ],
      "metadata": {
        "id": "NXp9GNmqO4pb"
      },
      "execution_count": 43,
      "outputs": []
    },
    {
      "cell_type": "code",
      "source": [
        "# 환경에 따라 최대 에폭 사이즈 변경\n",
        "if check_google_colab:\n",
        "    EPOCHS = 60\n",
        "else:\n",
        "    EPOCHS = 30\n",
        "\n",
        "MIN_EPOCHS = 8\n",
        "WARMUP_EPOCHS = 3"
      ],
      "metadata": {
        "id": "0Du00bDvKpcy"
      },
      "execution_count": 41,
      "outputs": []
    },
    {
      "cell_type": "markdown",
      "source": [
        "- 전체 에폭 80 -> 30 (15~30 내외 얼리스탑 확인)\n",
        "- 각 모델에 따라 하이퍼 파라미터 튜닝"
      ],
      "metadata": {
        "id": "ztubUW6MJ20S"
      }
    },
    {
      "cell_type": "markdown",
      "source": [
        "#### 3-1) SimpleCNN 학습"
      ],
      "metadata": {
        "id": "e9bBGJe6xlca"
      }
    },
    {
      "cell_type": "markdown",
      "source": [
        "- val loss가 많이 튀는 경향이 있어 LR = 1e-3 -> 4e-4 로 진행\n",
        "- 웜업 -> 코사인 시퀀스 스케줄러로 진행하던 부분을 plateau 도입\n",
        "- 다시 OneCycleLR 전환\n",
        "- dropout 확률 0.5 -> 0.3 -> 0.4\n",
        "- LR = 1e-3 -> 2e-4 -> 5e-4 -> 4e-4"
      ],
      "metadata": {
        "id": "P5eCooYL1dfR"
      }
    },
    {
      "cell_type": "code",
      "source": [
        "# SimpleCNN 학습\n",
        "model_simpleCNN = SimpleCNN(num_classes, dropout_p=0.4).to(device)\n",
        "\n",
        "optimizer = torch.optim.AdamW(\n",
        "    model_simpleCNN.parameters(), # 전체\n",
        "    lr=4e-4, weight_decay=6e-4\n",
        ")\n",
        "scheduler = torch.optim.lr_scheduler.OneCycleLR(\n",
        "    optimizer, max_lr=4e-4, steps_per_epoch=len(train_loader), epochs=EPOCHS,\n",
        "    pct_start=WARMUP_EPOCHS/float(EPOCHS), anneal_strategy=\"cos\", div_factor=3.0, final_div_factor=4e2\n",
        ")\n",
        "# warmup = torch.optim.lr_scheduler.LinearLR(optimizer, start_factor=0.1, total_iters=WARMUP_EPOCHS+2)\n",
        "# plateau = torch.optim.lr_scheduler.ReduceLROnPlateau(\n",
        "#     optimizer, mode=\"min\", factor=0.5, patience=3, min_lr=1e-6\n",
        "# )\n",
        "\n",
        "model_title = \"SimpleCNN\"\n",
        "print(\"=\"*5, model_title, \"=\"*5)\n",
        "\n",
        "simpleCNN_info = train_model(\n",
        "    model_simpleCNN, train_loader, val_loader,\n",
        "    optimizer, epochs=EPOCHS, model_title=model_title,\n",
        "    scheduler=scheduler, grad_clip=1.0,\n",
        "    min_epochs=MIN_EPOCHS, patience=8, min_delta=2e-3)"
      ],
      "metadata": {
        "colab": {
          "base_uri": "https://localhost:8080/",
          "height": 872
        },
        "id": "pNOv-dgHOxaz",
        "outputId": "4d5669d6-7bcd-4507-947f-b04e0b7bb45f"
      },
      "execution_count": 44,
      "outputs": [
        {
          "output_type": "stream",
          "name": "stdout",
          "text": [
            "===== SimpleCNN =====\n"
          ]
        },
        {
          "output_type": "stream",
          "name": "stderr",
          "text": []
        },
        {
          "output_type": "stream",
          "name": "stdout",
          "text": [
            "\rEpoch 1/30 | Train Loss: 0.5823 | Train Acc: 79.79% | Val Loss: 0.5523 | Val Acc: 71.78% | LRs: ['1.99e-04'] |  Processing Time: 41.8s | \n"
          ]
        },
        {
          "output_type": "stream",
          "name": "stderr",
          "text": []
        },
        {
          "output_type": "stream",
          "name": "stdout",
          "text": [
            "\rEpoch 2/30 | Train Loss: 0.3099 | Train Acc: 90.58% | Val Loss: 0.4857 | Val Acc: 74.93% | LRs: ['3.33e-04'] |  Processing Time: 40.6s | \n"
          ]
        },
        {
          "output_type": "stream",
          "name": "stderr",
          "text": []
        },
        {
          "output_type": "stream",
          "name": "stdout",
          "text": [
            "\rEpoch 3/30 | Train Loss: 0.2826 | Train Acc: 91.83% | Val Loss: 0.4668 | Val Acc: 75.62% | LRs: ['4.00e-04'] |  Processing Time: 41.7s | \n"
          ]
        },
        {
          "output_type": "stream",
          "name": "stderr",
          "text": []
        },
        {
          "output_type": "stream",
          "name": "stdout",
          "text": [
            "\rEpoch 4/30 | Train Loss: 0.2566 | Train Acc: 93.85% | Val Loss: 0.3165 | Val Acc: 87.40% | LRs: ['3.99e-04'] |  Processing Time: 40.7s | \n"
          ]
        },
        {
          "output_type": "stream",
          "name": "stderr",
          "text": []
        },
        {
          "output_type": "stream",
          "name": "stdout",
          "text": [
            "\rEpoch 5/30 | Train Loss: 0.2424 | Train Acc: 94.38% | Val Loss: 0.3413 | Val Acc: 84.52% | LRs: ['3.95e-04'] |  Processing Time: 40.7s | \n"
          ]
        },
        {
          "output_type": "stream",
          "name": "stderr",
          "text": []
        },
        {
          "output_type": "stream",
          "name": "stdout",
          "text": [
            "\rEpoch 6/30 | Train Loss: 0.2418 | Train Acc: 94.58% | Val Loss: 0.2911 | Val Acc: 89.18% | LRs: ['3.88e-04'] |  Processing Time: 40.0s | \n"
          ]
        },
        {
          "output_type": "stream",
          "name": "stderr",
          "text": []
        },
        {
          "output_type": "stream",
          "name": "stdout",
          "text": [
            "\rEpoch 7/30 | Train Loss: 0.2325 | Train Acc: 95.22% | Val Loss: 0.3073 | Val Acc: 87.40% | LRs: ['3.79e-04'] |  Processing Time: 40.9s | \n"
          ]
        },
        {
          "output_type": "stream",
          "name": "stderr",
          "text": []
        },
        {
          "output_type": "stream",
          "name": "stdout",
          "text": [
            "\rEpoch 8/30 | Train Loss: 0.2307 | Train Acc: 94.98% | Val Loss: 0.2932 | Val Acc: 90.41% | LRs: ['3.67e-04'] |  Processing Time: 40.7s | \n"
          ]
        },
        {
          "output_type": "stream",
          "name": "stderr",
          "text": []
        },
        {
          "output_type": "stream",
          "name": "stdout",
          "text": [
            "\rEpoch 9/30 | Train Loss: 0.2207 | Train Acc: 95.49% | Val Loss: 0.3210 | Val Acc: 87.26% | LRs: ['3.53e-04'] |  Processing Time: 40.7s | \n"
          ]
        },
        {
          "output_type": "stream",
          "name": "stderr",
          "text": []
        },
        {
          "output_type": "stream",
          "name": "stdout",
          "text": [
            "\rEpoch 10/30 | Train Loss: 0.2100 | Train Acc: 96.20% | Val Loss: 0.3028 | Val Acc: 86.71% | LRs: ['3.37e-04'] |  Processing Time: 40.9s | \n"
          ]
        },
        {
          "output_type": "stream",
          "name": "stderr",
          "text": []
        },
        {
          "output_type": "stream",
          "name": "stdout",
          "text": [
            "\rEpoch 11/30 | Train Loss: 0.2217 | Train Acc: 95.34% | Val Loss: 0.2800 | Val Acc: 89.04% | LRs: ['3.19e-04'] |  Processing Time: 40.6s | \n"
          ]
        },
        {
          "output_type": "stream",
          "name": "stderr",
          "text": []
        },
        {
          "output_type": "stream",
          "name": "stdout",
          "text": [
            "\rEpoch 12/30 | Train Loss: 0.2037 | Train Acc: 96.38% | Val Loss: 0.2559 | Val Acc: 91.23% | LRs: ['3.00e-04'] |  Processing Time: 40.5s | \n"
          ]
        },
        {
          "output_type": "stream",
          "name": "stderr",
          "text": []
        },
        {
          "output_type": "stream",
          "name": "stdout",
          "text": [
            "\rEpoch 13/30 | Train Loss: 0.1978 | Train Acc: 96.56% | Val Loss: 0.2589 | Val Acc: 91.78% | LRs: ['2.79e-04'] |  Processing Time: 40.2s | \n"
          ]
        },
        {
          "output_type": "stream",
          "name": "stderr",
          "text": []
        },
        {
          "output_type": "stream",
          "name": "stdout",
          "text": [
            "\rEpoch 14/30 | Train Loss: 0.2154 | Train Acc: 95.74% | Val Loss: 0.2523 | Val Acc: 91.51% | LRs: ['2.57e-04'] |  Processing Time: 40.8s | \n"
          ]
        },
        {
          "output_type": "stream",
          "name": "stderr",
          "text": []
        },
        {
          "output_type": "stream",
          "name": "stdout",
          "text": [
            "\rEpoch 15/30 | Train Loss: 0.1988 | Train Acc: 96.51% | Val Loss: 0.2967 | Val Acc: 88.63% | LRs: ['2.35e-04'] |  Processing Time: 40.9s | \n"
          ]
        },
        {
          "output_type": "stream",
          "name": "stderr",
          "text": []
        },
        {
          "output_type": "stream",
          "name": "stdout",
          "text": [
            "\rEpoch 16/30 | Train Loss: 0.2006 | Train Acc: 96.47% | Val Loss: 0.2852 | Val Acc: 88.77% | LRs: ['2.12e-04'] |  Processing Time: 40.0s | \n"
          ]
        },
        {
          "output_type": "stream",
          "name": "stderr",
          "text": []
        },
        {
          "output_type": "stream",
          "name": "stdout",
          "text": [
            "\rEpoch 17/30 | Train Loss: 0.2005 | Train Acc: 96.60% | Val Loss: 0.2671 | Val Acc: 90.14% | LRs: ['1.89e-04'] |  Processing Time: 39.7s | \n"
          ]
        },
        {
          "output_type": "stream",
          "name": "stderr",
          "text": []
        },
        {
          "output_type": "stream",
          "name": "stdout",
          "text": [
            "\rEpoch 18/30 | Train Loss: 0.1928 | Train Acc: 96.76% | Val Loss: 0.2735 | Val Acc: 91.10% | LRs: ['1.65e-04'] |  Processing Time: 39.0s | \n"
          ]
        },
        {
          "output_type": "stream",
          "name": "stderr",
          "text": []
        },
        {
          "output_type": "stream",
          "name": "stdout",
          "text": [
            "\rEpoch 19/30 | Train Loss: 0.1964 | Train Acc: 96.62% | Val Loss: 0.2826 | Val Acc: 88.22% | LRs: ['1.43e-04'] |  Processing Time: 40.6s | \n"
          ]
        },
        {
          "output_type": "stream",
          "name": "stderr",
          "text": []
        },
        {
          "output_type": "stream",
          "name": "stdout",
          "text": [
            "\rEpoch 20/30 | Train Loss: 0.1856 | Train Acc: 97.29% | Val Loss: 0.3005 | Val Acc: 87.12% | LRs: ['1.21e-04'] |  Processing Time: 42.3s | \n"
          ]
        },
        {
          "output_type": "stream",
          "name": "stderr",
          "text": []
        },
        {
          "output_type": "stream",
          "name": "stdout",
          "text": [
            "\rEpoch 21/30 | Train Loss: 0.1897 | Train Acc: 97.02% | Val Loss: 0.2991 | Val Acc: 87.67% | LRs: ['1.00e-04'] |  Processing Time: 40.2s | \n"
          ]
        },
        {
          "output_type": "stream",
          "name": "stderr",
          "text": []
        },
        {
          "output_type": "stream",
          "name": "stdout",
          "text": [
            "\rEpoch 22/30 | Train Loss: 0.1870 | Train Acc: 97.16% | Val Loss: 0.2577 | Val Acc: 90.14% | LRs: ['8.08e-05'] |  Processing Time: 40.4s | \n",
            "Early stopping at epoch 22\n",
            "Total Learning Time: 0:14:53 (epoch 22) | Best epoch: 14\n"
          ]
        },
        {
          "output_type": "display_data",
          "data": {
            "text/plain": [
              "<Figure size 800x400 with 2 Axes>"
            ],
            "image/png": "[encoded data removed]"
          },
          "metadata": {}
        }
      ]
    },
    {
      "cell_type": "markdown",
      "source": [
        "#### 3-2) resNet18_Frozen 학습"
      ],
      "metadata": {
        "id": "QoJTgOAHxwJ6"
      }
    },
    {
      "cell_type": "markdown",
      "source": [
        "- LR 2e-5 -> 7e-5 -> 5e-5 -> 1e-3 -> 5e-4 -> 3e-4\n",
        "- plateau 스캐줄러 적용 -> OneCycleLR 으로 전환\n",
        "- LR 요동으로 Layer 1~4 의 BatchNorm2D 레이어의 통계량도 동결 적용"
      ],
      "metadata": {
        "id": "tz9r5v2j1eqX"
      }
    },
    {
      "cell_type": "code",
      "source": [
        "def set_frozen_blocks_eval(m, model_title=None): # BatchNorm2D 레이어의 통계량도 동결\n",
        "    # layer1~3은 P 동결\n",
        "    m.layer1.eval()\n",
        "    m.layer2.eval()\n",
        "    m.layer3.eval()\n",
        "    if model_title == \"resNet18 (Frozen)\": # 4는 FE 동결\n",
        "        m.layer4.eval()\n",
        "\n",
        "# resNet18_Frozen\n",
        "model_resNet18_FE = get_resnet_feature_extraction(num_classes).to(device)\n",
        "\n",
        "optimizer = torch.optim.AdamW(\n",
        "    model_resNet18_FE.fc.parameters(), # fc만\n",
        "    lr=3e-4, weight_decay=1e-4\n",
        ")\n",
        "scheduler = torch.optim.lr_scheduler.OneCycleLR(\n",
        "    optimizer, max_lr=3e-4, total_steps=EPOCHS*len(train_loader),\n",
        "    pct_start=WARMUP_EPOCHS/float(EPOCHS), anneal_strategy=\"cos\", div_factor=3.0, final_div_factor=4e2\n",
        ")\n",
        "# warmup = torch.optim.lr_scheduler.LinearLR(optimizer, start_factor=0.1, total_iters=WARMUP_EPOCHS)\n",
        "# plateau = torch.optim.lr_scheduler.ReduceLROnPlateau(\n",
        "#     optimizer, mode=\"min\", factor=0.1, patience=2, min_lr=1e-6\n",
        "# )\n",
        "\n",
        "model_title = \"resNet18 (Frozen)\"\n",
        "print(\"=\"*5, model_title, \"=\"*5)\n",
        "\n",
        "resNet18_FE_info = train_model(\n",
        "    model_resNet18_FE, train_loader, val_loader,\n",
        "    optimizer, epochs=EPOCHS, model_title=model_title,\n",
        "    scheduler=scheduler, grad_clip=1.0,\n",
        "    min_epochs=MIN_EPOCHS, patience=5, min_delta=2e-3,\n",
        ")"
      ],
      "metadata": {
        "id": "L-tppZ9ef8R8",
        "colab": {
          "base_uri": "https://localhost:8080/",
          "height": 743
        },
        "outputId": "cdc8fed3-5f79-4697-c6ae-a5a135d99bab"
      },
      "execution_count": 45,
      "outputs": [
        {
          "output_type": "stream",
          "name": "stdout",
          "text": [
            "===== resNet18 (Frozen) =====\n"
          ]
        },
        {
          "output_type": "stream",
          "name": "stderr",
          "text": []
        },
        {
          "output_type": "stream",
          "name": "stdout",
          "text": [
            "\rEpoch 1/30 | Train Loss: 0.6179 | Train Acc: 69.52% | Val Loss: 0.5693 | Val Acc: 67.12% | LRs: ['1.49e-04'] |  Processing Time: 40.5s | \n"
          ]
        },
        {
          "output_type": "stream",
          "name": "stderr",
          "text": []
        },
        {
          "output_type": "stream",
          "name": "stdout",
          "text": [
            "\rEpoch 2/30 | Train Loss: 0.4080 | Train Acc: 90.23% | Val Loss: 0.3697 | Val Acc: 84.79% | LRs: ['2.50e-04'] |  Processing Time: 39.9s | \n"
          ]
        },
        {
          "output_type": "stream",
          "name": "stderr",
          "text": []
        },
        {
          "output_type": "stream",
          "name": "stdout",
          "text": [
            "\rEpoch 3/30 | Train Loss: 0.3105 | Train Acc: 92.27% | Val Loss: 0.2426 | Val Acc: 91.64% | LRs: ['3.00e-04'] |  Processing Time: 39.6s | \n"
          ]
        },
        {
          "output_type": "stream",
          "name": "stderr",
          "text": []
        },
        {
          "output_type": "stream",
          "name": "stdout",
          "text": [
            "\rEpoch 4/30 | Train Loss: 0.2654 | Train Acc: 93.69% | Val Loss: 0.1996 | Val Acc: 92.60% | LRs: ['2.99e-04'] |  Processing Time: 39.6s | \n"
          ]
        },
        {
          "output_type": "stream",
          "name": "stderr",
          "text": []
        },
        {
          "output_type": "stream",
          "name": "stdout",
          "text": [
            "\rEpoch 5/30 | Train Loss: 0.2669 | Train Acc: 93.18% | Val Loss: 0.1808 | Val Acc: 93.56% | LRs: ['2.96e-04'] |  Processing Time: 40.7s | \n"
          ]
        },
        {
          "output_type": "stream",
          "name": "stderr",
          "text": []
        },
        {
          "output_type": "stream",
          "name": "stdout",
          "text": [
            "\rEpoch 6/30 | Train Loss: 0.2412 | Train Acc: 94.40% | Val Loss: 0.1846 | Val Acc: 93.01% | LRs: ['2.91e-04'] |  Processing Time: 40.3s | \n"
          ]
        },
        {
          "output_type": "stream",
          "name": "stderr",
          "text": []
        },
        {
          "output_type": "stream",
          "name": "stdout",
          "text": [
            "\rEpoch 7/30 | Train Loss: 0.2367 | Train Acc: 94.76% | Val Loss: 0.1682 | Val Acc: 93.97% | LRs: ['2.84e-04'] |  Processing Time: 40.2s | \n"
          ]
        },
        {
          "output_type": "stream",
          "name": "stderr",
          "text": []
        },
        {
          "output_type": "stream",
          "name": "stdout",
          "text": [
            "\rEpoch 8/30 | Train Loss: 0.2357 | Train Acc: 94.62% | Val Loss: 0.1506 | Val Acc: 94.66% | LRs: ['2.75e-04'] |  Processing Time: 40.3s | \n"
          ]
        },
        {
          "output_type": "stream",
          "name": "stderr",
          "text": []
        },
        {
          "output_type": "stream",
          "name": "stdout",
          "text": [
            "\rEpoch 9/30 | Train Loss: 0.2306 | Train Acc: 95.09% | Val Loss: 0.1473 | Val Acc: 95.07% | LRs: ['2.65e-04'] |  Processing Time: 40.9s | \n"
          ]
        },
        {
          "output_type": "stream",
          "name": "stderr",
          "text": []
        },
        {
          "output_type": "stream",
          "name": "stdout",
          "text": [
            "\rEpoch 10/30 | Train Loss: 0.2378 | Train Acc: 94.69% | Val Loss: 0.1342 | Val Acc: 96.30% | LRs: ['2.53e-04'] |  Processing Time: 39.4s | \n"
          ]
        },
        {
          "output_type": "stream",
          "name": "stderr",
          "text": []
        },
        {
          "output_type": "stream",
          "name": "stdout",
          "text": [
            "\rEpoch 11/30 | Train Loss: 0.2275 | Train Acc: 95.34% | Val Loss: 0.1352 | Val Acc: 95.62% | LRs: ['2.40e-04'] |  Processing Time: 41.4s | \n"
          ]
        },
        {
          "output_type": "stream",
          "name": "stderr",
          "text": []
        },
        {
          "output_type": "stream",
          "name": "stdout",
          "text": [
            "\rEpoch 12/30 | Train Loss: 0.2272 | Train Acc: 95.16% | Val Loss: 0.1356 | Val Acc: 95.48% | LRs: ['2.25e-04'] |  Processing Time: 40.5s | \n"
          ]
        },
        {
          "output_type": "stream",
          "name": "stderr",
          "text": []
        },
        {
          "output_type": "stream",
          "name": "stdout",
          "text": [
            "\rEpoch 13/30 | Train Loss: 0.2257 | Train Acc: 95.11% | Val Loss: 0.1342 | Val Acc: 95.62% | LRs: ['2.09e-04'] |  Processing Time: 40.3s | \n"
          ]
        },
        {
          "output_type": "stream",
          "name": "stderr",
          "text": []
        },
        {
          "output_type": "stream",
          "name": "stdout",
          "text": [
            "\rEpoch 14/30 | Train Loss: 0.2208 | Train Acc: 95.65% | Val Loss: 0.1367 | Val Acc: 95.48% | LRs: ['1.93e-04'] |  Processing Time: 40.7s | \n"
          ]
        },
        {
          "output_type": "stream",
          "name": "stderr",
          "text": []
        },
        {
          "output_type": "stream",
          "name": "stdout",
          "text": [
            "\rEpoch 15/30 | Train Loss: 0.2209 | Train Acc: 95.40% | Val Loss: 0.1342 | Val Acc: 95.75% | LRs: ['1.76e-04'] |  Processing Time: 40.0s | \n",
            "Early stopping at epoch 15\n",
            "Total Learning Time: 0:10:04 (epoch 15) | Best epoch: 10\n"
          ]
        },
        {
          "output_type": "display_data",
          "data": {
            "text/plain": [
              "<Figure size 800x400 with 2 Axes>"
            ],
            "image/png": "[encoded data removed]"
          },
          "metadata": {}
        }
      ]
    },
    {
      "cell_type": "markdown",
      "source": [
        "#### 3-3) resNet18_Partial 학습"
      ],
      "metadata": {
        "id": "-M6EsJJ7x2Rj"
      }
    },
    {
      "cell_type": "markdown",
      "source": [
        "- l4_params, LR = 3e-6 -> 3e-4 -> 1e-4 -> 5e-5 -> 5e-6 -> 4e-6\n",
        "- fc_params, LR = 7e-5 -> 5e-4 -> 8e-4 -> 5e-4 -> 5e-4 -> 3e-5\n",
        "- plateau 스캐줄러 적용 ->OneCycleLR 으로 전환"
      ],
      "metadata": {
        "id": "QgQEUZ350UrV"
      }
    },
    {
      "cell_type": "code",
      "source": [
        "# resNet18_Partial\n",
        "model_resNet18_P = get_resnet_partial(num_classes, unfreeze_from_layer=4).to(device) # fc 직전 마지막 conv layer\n",
        "\n",
        "l4_params = [p for p in model_resNet18_P.layer4.parameters() if p.requires_grad]    # layer4 conv\n",
        "fc_params = [p for p in model_resNet18_P.fc.parameters() if p.requires_grad]        # fc\n",
        "\n",
        "optimizer = torch.optim.AdamW(\n",
        "    [\n",
        "      {\"params\": l4_params, \"lr\": 4e-6},\n",
        "      {\"params\": fc_params, \"lr\": 3e-5},\n",
        "    ],\n",
        "    weight_decay=1e-4\n",
        ")\n",
        "scheduler = torch.optim.lr_scheduler.OneCycleLR(\n",
        "    optimizer, max_lr=[4e-6, 3e-5], total_steps=EPOCHS*len(train_loader),\n",
        "    pct_start=WARMUP_EPOCHS/float(EPOCHS), anneal_strategy=\"cos\", div_factor=3.0, final_div_factor=4e2\n",
        ")\n",
        "# warmup = torch.optim.lr_scheduler.LinearLR(optimizer, start_factor=0.1, total_iters=WARMUP_EPOCHS)\n",
        "# plateau = torch.optim.lr_scheduler.ReduceLROnPlateau(\n",
        "#     optimizer, mode=\"min\", factor=0.65, patience=3, min_lr=1e-6\n",
        "# )\n",
        "\n",
        "model_title = \"resNet18 (Partial)\"\n",
        "print(\"=\"*5, model_title, \"=\"*5)\n",
        "\n",
        "resNet18_P_info = train_model(\n",
        "    model_resNet18_P, train_loader, val_loader,\n",
        "    optimizer, epochs=EPOCHS, model_title=model_title,\n",
        "    scheduler=scheduler, grad_clip=1.0,\n",
        "    min_epochs=MIN_EPOCHS, patience=8, min_delta=2e-3,\n",
        ")"
      ],
      "metadata": {
        "id": "W1mvBUfHPvs1",
        "colab": {
          "base_uri": "https://localhost:8080/",
          "height": 725
        },
        "outputId": "cccd4d3d-1c44-43e6-c100-fd4469571f87"
      },
      "execution_count": 53,
      "outputs": [
        {
          "output_type": "stream",
          "name": "stdout",
          "text": [
            "===== resNet18 (Partial) =====\n"
          ]
        },
        {
          "output_type": "stream",
          "name": "stderr",
          "text": []
        },
        {
          "output_type": "stream",
          "name": "stdout",
          "text": [
            "\rEpoch 1/30 | Train Loss: 0.6292 | Train Acc: 64.70% | Val Loss: 0.5408 | Val Acc: 75.89% | LRs: ['1.99e-06', '1.49e-05'] |  Processing Time: 41.4s | \n"
          ]
        },
        {
          "output_type": "stream",
          "name": "stderr",
          "text": []
        },
        {
          "output_type": "stream",
          "name": "stdout",
          "text": [
            "\rEpoch 2/30 | Train Loss: 0.4192 | Train Acc: 86.10% | Val Loss: 0.2927 | Val Acc: 92.47% | LRs: ['3.33e-06', '2.50e-05'] |  Processing Time: 41.4s | \n"
          ]
        },
        {
          "output_type": "stream",
          "name": "stderr",
          "text": []
        },
        {
          "output_type": "stream",
          "name": "stdout",
          "text": [
            "\rEpoch 3/30 | Train Loss: 0.2906 | Train Acc: 92.09% | Val Loss: 0.1865 | Val Acc: 95.48% | LRs: ['4.00e-06', '3.00e-05'] |  Processing Time: 40.2s | \n"
          ]
        },
        {
          "output_type": "stream",
          "name": "stderr",
          "text": []
        },
        {
          "output_type": "stream",
          "name": "stdout",
          "text": [
            "\rEpoch 4/30 | Train Loss: 0.2402 | Train Acc: 94.62% | Val Loss: 0.1523 | Val Acc: 95.34% | LRs: ['3.99e-06', '2.99e-05'] |  Processing Time: 40.4s | \n"
          ]
        },
        {
          "output_type": "stream",
          "name": "stderr",
          "text": []
        },
        {
          "output_type": "stream",
          "name": "stdout",
          "text": [
            "\rEpoch 5/30 | Train Loss: 0.2253 | Train Acc: 95.14% | Val Loss: 0.1524 | Val Acc: 94.38% | LRs: ['3.95e-06', '2.96e-05'] |  Processing Time: 40.9s | \n"
          ]
        },
        {
          "output_type": "stream",
          "name": "stderr",
          "text": []
        },
        {
          "output_type": "stream",
          "name": "stdout",
          "text": [
            "\rEpoch 6/30 | Train Loss: 0.2112 | Train Acc: 95.94% | Val Loss: 0.1452 | Val Acc: 94.25% | LRs: ['3.88e-06', '2.91e-05'] |  Processing Time: 41.4s | \n"
          ]
        },
        {
          "output_type": "stream",
          "name": "stderr",
          "text": []
        },
        {
          "output_type": "stream",
          "name": "stdout",
          "text": [
            "\rEpoch 7/30 | Train Loss: 0.2002 | Train Acc: 96.42% | Val Loss: 0.1518 | Val Acc: 93.97% | LRs: ['3.79e-06', '2.84e-05'] |  Processing Time: 40.3s | \n"
          ]
        },
        {
          "output_type": "stream",
          "name": "stderr",
          "text": []
        },
        {
          "output_type": "stream",
          "name": "stdout",
          "text": [
            "\rEpoch 8/30 | Train Loss: 0.2042 | Train Acc: 96.31% | Val Loss: 0.1466 | Val Acc: 94.11% | LRs: ['3.67e-06', '2.75e-05'] |  Processing Time: 40.7s | \n"
          ]
        },
        {
          "output_type": "stream",
          "name": "stderr",
          "text": []
        },
        {
          "output_type": "stream",
          "name": "stdout",
          "text": [
            "\rEpoch 9/30 | Train Loss: 0.2011 | Train Acc: 96.42% | Val Loss: 0.1678 | Val Acc: 93.70% | LRs: ['3.53e-06', '2.65e-05'] |  Processing Time: 40.7s | \n"
          ]
        },
        {
          "output_type": "stream",
          "name": "stderr",
          "text": []
        },
        {
          "output_type": "stream",
          "name": "stdout",
          "text": [
            "\rEpoch 10/30 | Train Loss: 0.1932 | Train Acc: 96.80% | Val Loss: 0.1447 | Val Acc: 94.38% | LRs: ['3.37e-06', '2.53e-05'] |  Processing Time: 41.2s | \n"
          ]
        },
        {
          "output_type": "stream",
          "name": "stderr",
          "text": []
        },
        {
          "output_type": "stream",
          "name": "stdout",
          "text": [
            "\rEpoch 11/30 | Train Loss: 0.1916 | Train Acc: 97.09% | Val Loss: 0.1446 | Val Acc: 94.66% | LRs: ['3.19e-06', '2.40e-05'] |  Processing Time: 41.1s | \n"
          ]
        },
        {
          "output_type": "stream",
          "name": "stderr",
          "text": []
        },
        {
          "output_type": "stream",
          "name": "stdout",
          "text": [
            "\rEpoch 12/30 | Train Loss: 0.1899 | Train Acc: 97.18% | Val Loss: 0.1490 | Val Acc: 94.38% | LRs: ['3.00e-06', '2.25e-05'] |  Processing Time: 41.7s | \n"
          ]
        },
        {
          "output_type": "stream",
          "name": "stderr",
          "text": []
        },
        {
          "output_type": "stream",
          "name": "stdout",
          "text": [
            "\rEpoch 13/30 | Train Loss: 0.1872 | Train Acc: 97.18% | Val Loss: 0.1663 | Val Acc: 93.42% | LRs: ['2.79e-06', '2.09e-05'] |  Processing Time: 41.2s | \n"
          ]
        },
        {
          "output_type": "stream",
          "name": "stderr",
          "text": []
        },
        {
          "output_type": "stream",
          "name": "stdout",
          "text": [
            "\rEpoch 14/30 | Train Loss: 0.1908 | Train Acc: 97.05% | Val Loss: 0.1915 | Val Acc: 92.60% | LRs: ['2.57e-06', '1.93e-05'] |  Processing Time: 40.5s | \n",
            "Early stopping at epoch 14\n",
            "Total Learning Time: 0:09:33 (epoch 14) | Best epoch: 6\n"
          ]
        },
        {
          "output_type": "display_data",
          "data": {
            "text/plain": [
              "<Figure size 800x400 with 2 Axes>"
            ],
            "image/png": "[encoded data removed]"
          },
          "metadata": {}
        }
      ]
    },
    {
      "cell_type": "markdown",
      "source": [
        "#### 3-4) resNet18_fine-tune 학습"
      ],
      "metadata": {
        "id": "49VY22n5x7Qx"
      }
    },
    {
      "cell_type": "markdown",
      "source": [
        "- ly_params, LR = 1e-5 -> 1e-6\n",
        "- fc_params, LR = 7e-5 -> 5e-4 -> 8e-4 -> 5e-4 -> 5e-4 -> 3e-5"
      ],
      "metadata": {
        "id": "XCbs_hT50TuF"
      }
    },
    {
      "cell_type": "code",
      "source": [
        "# resNet18_fine-tune\n",
        "model_resNet18_FT = get_resnet_finetune(num_classes).to(device)\n",
        "\n",
        "ly_params = [p for n,p in model_resNet18_FT.named_parameters() if \"fc\" not in n]    # fc 빼고 나머지\n",
        "fc_params = [p for p in model_resNet18_FT.fc.parameters()]                          # fc\n",
        "\n",
        "optimizer = torch.optim.AdamW(\n",
        "    [\n",
        "      {\"params\": ly_params, \"lr\": 1e-6}, # fc 제외 아주 낮게 설정\n",
        "      {\"params\": fc_params, \"lr\": 3e-5},\n",
        "    ],\n",
        "    weight_decay=1e-4\n",
        ")\n",
        "scheduler = torch.optim.lr_scheduler.OneCycleLR(\n",
        "    optimizer, max_lr=[1e-6, 3e-5], total_steps=EPOCHS*len(train_loader),\n",
        "    pct_start=WARMUP_EPOCHS/float(EPOCHS), anneal_strategy=\"cos\", div_factor=3.0, final_div_factor=4e2\n",
        ")\n",
        "# warmup = torch.optim.lr_scheduler.LinearLR(optimizer, start_factor=0.1, total_iters=WARMUP_EPOCHS)\n",
        "# plateau = torch.optim.lr_scheduler.ReduceLROnPlateau(\n",
        "#     optimizer, mode=\"min\", factor=0.3, patience=2, min_lr=1e-6\n",
        "# )\n",
        "\n",
        "model_title = \"resNet18 (Fine-tuning)\"\n",
        "print(\"=\"*5, model_title, \"=\"*5)\n",
        "\n",
        "resNet18_FT_info = train_model(\n",
        "    model_resNet18_FT, train_loader, val_loader,\n",
        "    optimizer, epochs=EPOCHS, model_title=model_title,\n",
        "    scheduler=scheduler, grad_clip=1.0,\n",
        "    min_epochs=MIN_EPOCHS-2, patience=5, min_delta=2e-3,\n",
        ")"
      ],
      "metadata": {
        "id": "3Wkt5REHf8Os",
        "colab": {
          "base_uri": "https://localhost:8080/",
          "height": 872
        },
        "outputId": "dd525c06-87ca-4c91-bac4-2d4d3c09a3f1"
      },
      "execution_count": 25,
      "outputs": [
        {
          "output_type": "stream",
          "name": "stdout",
          "text": [
            "===== resNet18 (Fine-tuning) =====\n"
          ]
        },
        {
          "output_type": "stream",
          "name": "stderr",
          "text": []
        },
        {
          "output_type": "stream",
          "name": "stdout",
          "text": [
            "\rEpoch 1/30 | Train Loss: 0.6312 | Train Acc: 65.55% | Val Loss: 0.5888 | Val Acc: 72.47% | LRs: ['5.01e-07', '1.50e-05'] |  Processing Time: 40.6s | \n"
          ]
        },
        {
          "output_type": "stream",
          "name": "stderr",
          "text": []
        },
        {
          "output_type": "stream",
          "name": "stdout",
          "text": [
            "\rEpoch 2/30 | Train Loss: 0.5236 | Train Acc: 80.70% | Val Loss: 0.4728 | Val Acc: 83.15% | LRs: ['8.36e-07', '2.51e-05'] |  Processing Time: 41.2s | \n"
          ]
        },
        {
          "output_type": "stream",
          "name": "stderr",
          "text": []
        },
        {
          "output_type": "stream",
          "name": "stdout",
          "text": [
            "\rEpoch 3/30 | Train Loss: 0.4102 | Train Acc: 89.25% | Val Loss: 0.3445 | Val Acc: 90.14% | LRs: ['1.00e-06', '3.00e-05'] |  Processing Time: 40.9s | \n"
          ]
        },
        {
          "output_type": "stream",
          "name": "stderr",
          "text": []
        },
        {
          "output_type": "stream",
          "name": "stdout",
          "text": [
            "\rEpoch 4/30 | Train Loss: 0.3253 | Train Acc: 92.16% | Val Loss: 0.2734 | Val Acc: 91.23% | LRs: ['9.97e-07', '2.99e-05'] |  Processing Time: 40.4s | \n"
          ]
        },
        {
          "output_type": "stream",
          "name": "stderr",
          "text": []
        },
        {
          "output_type": "stream",
          "name": "stdout",
          "text": [
            "\rEpoch 5/30 | Train Loss: 0.2784 | Train Acc: 94.05% | Val Loss: 0.2275 | Val Acc: 92.60% | LRs: ['9.86e-07', '2.96e-05'] |  Processing Time: 40.6s | \n"
          ]
        },
        {
          "output_type": "stream",
          "name": "stderr",
          "text": []
        },
        {
          "output_type": "stream",
          "name": "stdout",
          "text": [
            "\rEpoch 6/30 | Train Loss: 0.2670 | Train Acc: 92.89% | Val Loss: 0.2047 | Val Acc: 93.42% | LRs: ['9.70e-07', '2.91e-05'] |  Processing Time: 40.3s | \n"
          ]
        },
        {
          "output_type": "stream",
          "name": "stderr",
          "text": []
        },
        {
          "output_type": "stream",
          "name": "stdout",
          "text": [
            "\rEpoch 7/30 | Train Loss: 0.2444 | Train Acc: 93.96% | Val Loss: 0.1959 | Val Acc: 93.15% | LRs: ['9.46e-07', '2.84e-05'] |  Processing Time: 40.8s | \n"
          ]
        },
        {
          "output_type": "stream",
          "name": "stderr",
          "text": []
        },
        {
          "output_type": "stream",
          "name": "stdout",
          "text": [
            "\rEpoch 8/30 | Train Loss: 0.2421 | Train Acc: 94.25% | Val Loss: 0.1899 | Val Acc: 93.56% | LRs: ['9.17e-07', '2.75e-05'] |  Processing Time: 39.7s | \n"
          ]
        },
        {
          "output_type": "stream",
          "name": "stderr",
          "text": []
        },
        {
          "output_type": "stream",
          "name": "stdout",
          "text": [
            "\rEpoch 9/30 | Train Loss: 0.2191 | Train Acc: 95.47% | Val Loss: 0.1931 | Val Acc: 92.88% | LRs: ['8.83e-07', '2.65e-05'] |  Processing Time: 40.9s | \n"
          ]
        },
        {
          "output_type": "stream",
          "name": "stderr",
          "text": []
        },
        {
          "output_type": "stream",
          "name": "stdout",
          "text": [
            "\rEpoch 10/30 | Train Loss: 0.2250 | Train Acc: 95.29% | Val Loss: 0.1837 | Val Acc: 93.42% | LRs: ['8.43e-07', '2.53e-05'] |  Processing Time: 40.6s | \n"
          ]
        },
        {
          "output_type": "stream",
          "name": "stderr",
          "text": []
        },
        {
          "output_type": "stream",
          "name": "stdout",
          "text": [
            "\rEpoch 11/30 | Train Loss: 0.2114 | Train Acc: 96.11% | Val Loss: 0.1868 | Val Acc: 93.01% | LRs: ['7.98e-07', '2.39e-05'] |  Processing Time: 40.2s | \n"
          ]
        },
        {
          "output_type": "stream",
          "name": "stderr",
          "text": []
        },
        {
          "output_type": "stream",
          "name": "stdout",
          "text": [
            "\rEpoch 12/30 | Train Loss: 0.2105 | Train Acc: 95.98% | Val Loss: 0.1721 | Val Acc: 94.52% | LRs: ['7.49e-07', '2.25e-05'] |  Processing Time: 40.8s | \n"
          ]
        },
        {
          "output_type": "stream",
          "name": "stderr",
          "text": []
        },
        {
          "output_type": "stream",
          "name": "stdout",
          "text": [
            "\rEpoch 13/30 | Train Loss: 0.1997 | Train Acc: 96.33% | Val Loss: 0.1677 | Val Acc: 94.52% | LRs: ['6.98e-07', '2.09e-05'] |  Processing Time: 40.6s | \n"
          ]
        },
        {
          "output_type": "stream",
          "name": "stderr",
          "text": []
        },
        {
          "output_type": "stream",
          "name": "stdout",
          "text": [
            "\rEpoch 14/30 | Train Loss: 0.2050 | Train Acc: 96.20% | Val Loss: 0.1748 | Val Acc: 93.29% | LRs: ['6.43e-07', '1.93e-05'] |  Processing Time: 41.2s | \n"
          ]
        },
        {
          "output_type": "stream",
          "name": "stderr",
          "text": []
        },
        {
          "output_type": "stream",
          "name": "stdout",
          "text": [
            "\rEpoch 15/30 | Train Loss: 0.2023 | Train Acc: 96.56% | Val Loss: 0.1724 | Val Acc: 94.11% | LRs: ['5.86e-07', '1.76e-05'] |  Processing Time: 40.7s | \n"
          ]
        },
        {
          "output_type": "stream",
          "name": "stderr",
          "text": []
        },
        {
          "output_type": "stream",
          "name": "stdout",
          "text": [
            "\rEpoch 16/30 | Train Loss: 0.1967 | Train Acc: 96.69% | Val Loss: 0.1809 | Val Acc: 93.29% | LRs: ['5.29e-07', '1.59e-05'] |  Processing Time: 40.4s | \n"
          ]
        },
        {
          "output_type": "stream",
          "name": "stderr",
          "text": []
        },
        {
          "output_type": "stream",
          "name": "stdout",
          "text": [
            "\rEpoch 17/30 | Train Loss: 0.1994 | Train Acc: 96.53% | Val Loss: 0.1656 | Val Acc: 94.11% | LRs: ['4.71e-07', '1.41e-05'] |  Processing Time: 40.3s | \n"
          ]
        },
        {
          "output_type": "stream",
          "name": "stderr",
          "text": []
        },
        {
          "output_type": "stream",
          "name": "stdout",
          "text": [
            "\rEpoch 18/30 | Train Loss: 0.1995 | Train Acc: 96.18% | Val Loss: 0.1834 | Val Acc: 93.01% | LRs: ['4.13e-07', '1.24e-05'] |  Processing Time: 40.8s | \n"
          ]
        },
        {
          "output_type": "stream",
          "name": "stderr",
          "text": []
        },
        {
          "output_type": "stream",
          "name": "stdout",
          "text": [
            "\rEpoch 19/30 | Train Loss: 0.1991 | Train Acc: 96.40% | Val Loss: 0.1902 | Val Acc: 92.47% | LRs: ['3.56e-07', '1.07e-05'] |  Processing Time: 39.5s | \n"
          ]
        },
        {
          "output_type": "stream",
          "name": "stderr",
          "text": []
        },
        {
          "output_type": "stream",
          "name": "stdout",
          "text": [
            "\rEpoch 20/30 | Train Loss: 0.1904 | Train Acc: 96.93% | Val Loss: 0.1640 | Val Acc: 94.25% | LRs: ['3.02e-07', '9.05e-06'] |  Processing Time: 41.1s | \n"
          ]
        },
        {
          "output_type": "stream",
          "name": "stderr",
          "text": []
        },
        {
          "output_type": "stream",
          "name": "stdout",
          "text": [
            "\rEpoch 21/30 | Train Loss: 0.1971 | Train Acc: 96.76% | Val Loss: 0.1991 | Val Acc: 92.05% | LRs: ['2.50e-07', '7.50e-06'] |  Processing Time: 40.7s | \n"
          ]
        },
        {
          "output_type": "stream",
          "name": "stderr",
          "text": []
        },
        {
          "output_type": "stream",
          "name": "stdout",
          "text": [
            "\rEpoch 22/30 | Train Loss: 0.1978 | Train Acc: 96.67% | Val Loss: 0.1924 | Val Acc: 92.47% | LRs: ['2.01e-07', '6.04e-06'] |  Processing Time: 40.0s | \n",
            "Early stopping at epoch 22\n",
            "Total Learning Time: 0:14:52 (epoch 22) | Best epoch: 17\n"
          ]
        },
        {
          "output_type": "display_data",
          "data": {
            "text/plain": [
              "<Figure size 800x400 with 2 Axes>"
            ],
            "image/png": "[encoded data removed]"
          },
          "metadata": {}
        }
      ]
    },
    {
      "cell_type": "code",
      "source": [
        "summary(model_resNet18_P, input_size=(batch_size, 3, CROP_SIZE, CROP_SIZE))"
      ],
      "metadata": {
        "id": "esjWDYcxbYRV",
        "colab": {
          "base_uri": "https://localhost:8080/"
        },
        "outputId": "81820646-edd2-43cd-a1f2-fee24e0f82d0"
      },
      "execution_count": 26,
      "outputs": [
        {
          "output_type": "execute_result",
          "data": {
            "text/plain": [
              "==========================================================================================\n",
              "Layer (type:depth-idx)                   Output Shape              Param #\n",
              "==========================================================================================\n",
              "ResNet                                   [64, 2]                   --\n",
              "├─Conv2d: 1-1                            [64, 64, 112, 112]        (9,408)\n",
              "├─BatchNorm2d: 1-2                       [64, 64, 112, 112]        (128)\n",
              "├─ReLU: 1-3                              [64, 64, 112, 112]        --\n",
              "├─MaxPool2d: 1-4                         [64, 64, 56, 56]          --\n",
              "├─Sequential: 1-5                        [64, 64, 56, 56]          --\n",
              "│    └─BasicBlock: 2-1                   [64, 64, 56, 56]          --\n",
              "│    │    └─Conv2d: 3-1                  [64, 64, 56, 56]          (36,864)\n",
              "│    │    └─BatchNorm2d: 3-2             [64, 64, 56, 56]          (128)\n",
              "│    │    └─ReLU: 3-3                    [64, 64, 56, 56]          --\n",
              "│    │    └─Conv2d: 3-4                  [64, 64, 56, 56]          (36,864)\n",
              "│    │    └─BatchNorm2d: 3-5             [64, 64, 56, 56]          (128)\n",
              "│    │    └─ReLU: 3-6                    [64, 64, 56, 56]          --\n",
              "│    └─BasicBlock: 2-2                   [64, 64, 56, 56]          --\n",
              "│    │    └─Conv2d: 3-7                  [64, 64, 56, 56]          (36,864)\n",
              "│    │    └─BatchNorm2d: 3-8             [64, 64, 56, 56]          (128)\n",
              "│    │    └─ReLU: 3-9                    [64, 64, 56, 56]          --\n",
              "│    │    └─Conv2d: 3-10                 [64, 64, 56, 56]          (36,864)\n",
              "│    │    └─BatchNorm2d: 3-11            [64, 64, 56, 56]          (128)\n",
              "│    │    └─ReLU: 3-12                   [64, 64, 56, 56]          --\n",
              "├─Sequential: 1-6                        [64, 128, 28, 28]         --\n",
              "│    └─BasicBlock: 2-3                   [64, 128, 28, 28]         --\n",
              "│    │    └─Conv2d: 3-13                 [64, 128, 28, 28]         (73,728)\n",
              "│    │    └─BatchNorm2d: 3-14            [64, 128, 28, 28]         (256)\n",
              "│    │    └─ReLU: 3-15                   [64, 128, 28, 28]         --\n",
              "│    │    └─Conv2d: 3-16                 [64, 128, 28, 28]         (147,456)\n",
              "│    │    └─BatchNorm2d: 3-17            [64, 128, 28, 28]         (256)\n",
              "│    │    └─Sequential: 3-18             [64, 128, 28, 28]         (8,448)\n",
              "│    │    └─ReLU: 3-19                   [64, 128, 28, 28]         --\n",
              "│    └─BasicBlock: 2-4                   [64, 128, 28, 28]         --\n",
              "│    │    └─Conv2d: 3-20                 [64, 128, 28, 28]         (147,456)\n",
              "│    │    └─BatchNorm2d: 3-21            [64, 128, 28, 28]         (256)\n",
              "│    │    └─ReLU: 3-22                   [64, 128, 28, 28]         --\n",
              "│    │    └─Conv2d: 3-23                 [64, 128, 28, 28]         (147,456)\n",
              "│    │    └─BatchNorm2d: 3-24            [64, 128, 28, 28]         (256)\n",
              "│    │    └─ReLU: 3-25                   [64, 128, 28, 28]         --\n",
              "├─Sequential: 1-7                        [64, 256, 14, 14]         --\n",
              "│    └─BasicBlock: 2-5                   [64, 256, 14, 14]         --\n",
              "│    │    └─Conv2d: 3-26                 [64, 256, 14, 14]         (294,912)\n",
              "│    │    └─BatchNorm2d: 3-27            [64, 256, 14, 14]         (512)\n",
              "│    │    └─ReLU: 3-28                   [64, 256, 14, 14]         --\n",
              "│    │    └─Conv2d: 3-29                 [64, 256, 14, 14]         (589,824)\n",
              "│    │    └─BatchNorm2d: 3-30            [64, 256, 14, 14]         (512)\n",
              "│    │    └─Sequential: 3-31             [64, 256, 14, 14]         (33,280)\n",
              "│    │    └─ReLU: 3-32                   [64, 256, 14, 14]         --\n",
              "│    └─BasicBlock: 2-6                   [64, 256, 14, 14]         --\n",
              "│    │    └─Conv2d: 3-33                 [64, 256, 14, 14]         (589,824)\n",
              "│    │    └─BatchNorm2d: 3-34            [64, 256, 14, 14]         (512)\n",
              "│    │    └─ReLU: 3-35                   [64, 256, 14, 14]         --\n",
              "│    │    └─Conv2d: 3-36                 [64, 256, 14, 14]         (589,824)\n",
              "│    │    └─BatchNorm2d: 3-37            [64, 256, 14, 14]         (512)\n",
              "│    │    └─ReLU: 3-38                   [64, 256, 14, 14]         --\n",
              "├─Sequential: 1-8                        [64, 512, 7, 7]           --\n",
              "│    └─BasicBlock: 2-7                   [64, 512, 7, 7]           --\n",
              "│    │    └─Conv2d: 3-39                 [64, 512, 7, 7]           1,179,648\n",
              "│    │    └─BatchNorm2d: 3-40            [64, 512, 7, 7]           1,024\n",
              "│    │    └─ReLU: 3-41                   [64, 512, 7, 7]           --\n",
              "│    │    └─Conv2d: 3-42                 [64, 512, 7, 7]           2,359,296\n",
              "│    │    └─BatchNorm2d: 3-43            [64, 512, 7, 7]           1,024\n",
              "│    │    └─Sequential: 3-44             [64, 512, 7, 7]           132,096\n",
              "│    │    └─ReLU: 3-45                   [64, 512, 7, 7]           --\n",
              "│    └─BasicBlock: 2-8                   [64, 512, 7, 7]           --\n",
              "│    │    └─Conv2d: 3-46                 [64, 512, 7, 7]           2,359,296\n",
              "│    │    └─BatchNorm2d: 3-47            [64, 512, 7, 7]           1,024\n",
              "│    │    └─ReLU: 3-48                   [64, 512, 7, 7]           --\n",
              "│    │    └─Conv2d: 3-49                 [64, 512, 7, 7]           2,359,296\n",
              "│    │    └─BatchNorm2d: 3-50            [64, 512, 7, 7]           1,024\n",
              "│    │    └─ReLU: 3-51                   [64, 512, 7, 7]           --\n",
              "├─AdaptiveAvgPool2d: 1-9                 [64, 512, 1, 1]           --\n",
              "├─Sequential: 1-10                       [64, 2]                   --\n",
              "│    └─Dropout: 2-9                      [64, 512]                 --\n",
              "│    └─Linear: 2-10                      [64, 2]                   1,026\n",
              "==========================================================================================\n",
              "Total params: 11,177,538\n",
              "Trainable params: 8,394,754\n",
              "Non-trainable params: 2,782,784\n",
              "Total mult-adds (Units.GIGABYTES): 116.07\n",
              "==========================================================================================\n",
              "Input size (MB): 38.54\n",
              "Forward/backward pass size (MB): 2543.32\n",
              "Params size (MB): 44.71\n",
              "Estimated Total Size (MB): 2626.57\n",
              "=========================================================================================="
            ]
          },
          "metadata": {},
          "execution_count": 26
        }
      ]
    },
    {
      "cell_type": "markdown",
      "source": [
        "# 4. 평가 지표 확인\n"
      ],
      "metadata": {
        "id": "AGqzY4cc-XQ9"
      }
    },
    {
      "cell_type": "markdown",
      "source": [
        "- 정확도, 정밀도, 재현율, F1-Score 등 모델들의 전체적인 평가 지표 확인"
      ],
      "metadata": {
        "id": "eItxSugwU2q1"
      }
    },
    {
      "cell_type": "code",
      "source": [
        "@torch.inference_mode()  # = no_grad의 superset(추론 최적화)\n",
        "def predict_proba(model, dataloader, device, temp_scaler=None, return_loss=False, criterion=None):\n",
        "    \"\"\"loader 전체에 대해 (y, p1[, loss_mean]) 반환. p1 = class-1 확률\"\"\"\n",
        "    model.eval()\n",
        "    y_all, p_all = [], []\n",
        "    loss_sum, total = 0.0, 0\n",
        "\n",
        "    for x, y in dataloader:\n",
        "        x, y = x.to(device), y.to(device)\n",
        "        logits = model(x)\n",
        "        if temp_scaler is not None:\n",
        "            logits = temp_scaler(logits)\n",
        "        if return_loss and criterion is not None:\n",
        "            loss_sum += criterion(logits, y).item() * x.size(0)\n",
        "            total += y.size(0)\n",
        "\n",
        "        p1 = torch.softmax(logits, dim=1)[:, 1].cpu().numpy()\n",
        "        y_all.append(y.cpu().numpy()); p_all.append(p1)\n",
        "\n",
        "    y_all = np.concatenate(y_all); p_all = np.concatenate(p_all)\n",
        "    if return_loss and criterion is not None:\n",
        "        return y_all, p_all, loss_sum / max(total, 1)\n",
        "    return y_all, p_all\n",
        "\n",
        "\n",
        "def apply_threshold(p1, threshold=0.5):\n",
        "    return (p1 >= threshold).astype(np.int64)\n",
        "\n",
        "\n",
        "def summarize_metrics(y_true, y_pred, loss_mean=None, model_name=\"Model\"):\n",
        "    acc = accuracy_score(y_true, y_pred)\n",
        "    prec = precision_score(y_true, y_pred, average=\"binary\", zero_division=0)\n",
        "    rec  = recall_score(y_true, y_pred, average=\"binary\", zero_division=0)\n",
        "    f1   = f1_score(y_true, y_pred, average=\"binary\", zero_division=0)\n",
        "\n",
        "    print(\"\\n\", \"=\"*15, model_name, \"=\"*15)\n",
        "    print(f\"📊 Classification Report for {model_name}\")\n",
        "    print(classification_report(y_true, y_pred, target_names=[\"Normal\", \"Pneumonia\"], zero_division=0))\n",
        "    if loss_mean is not None:\n",
        "        print(f\"✅ Loss: {loss_mean:.4f}\")\n",
        "    print(f\"✅ Accuracy: {acc:.2%}\")\n",
        "    print(f\"✅ Precision: {prec:.4f}\")\n",
        "    print(f\"✅ Recall: {rec:.4f}\")\n",
        "    print(f\"✅ F1-score: {f1:.4f}\", \"\\n\")\n",
        "    return acc, prec, rec, f1"
      ],
      "metadata": {
        "id": "B9-4e-L4QIWt"
      },
      "execution_count": 54,
      "outputs": []
    },
    {
      "cell_type": "code",
      "source": [
        "@torch.inference_mode()  # = no_grad의 superset(추론 최적화)\n",
        "def evaluate_model(model, dataloader, criterion, device, model_name=\"Model\",\n",
        "                   threshold=0.5, temp_scaler=None, verbose=True):\n",
        "    y_true, p1, loss_mean = predict_proba(\n",
        "        model, dataloader, device, temp_scaler=temp_scaler,\n",
        "        return_loss=(criterion is not None), criterion=criterion\n",
        "    )\n",
        "    y_pred = apply_threshold(p1, threshold)\n",
        "    if verbose:\n",
        "        return (*summarize_metrics(y_true, y_pred, loss_mean, model_name), y_true, y_pred)\n",
        "    else:\n",
        "        acc = accuracy_score(y_true, y_pred)\n",
        "        prec = precision_score(y_true, y_pred, zero_division=0)\n",
        "        rec  = recall_score(y_true, y_pred, zero_division=0)\n",
        "        f1   = f1_score(y_true, y_pred, zero_division=0)\n",
        "        return acc, prec, rec, f1, y_true, y_pred"
      ],
      "metadata": {
        "id": "Ia2nkImYQAFf"
      },
      "execution_count": 55,
      "outputs": []
    },
    {
      "cell_type": "markdown",
      "source": [
        "## 4-1. 검증(val) 데이터셋으로 평가 지표 확인 (참고용)"
      ],
      "metadata": {
        "id": "z-CQuyAn3De-"
      }
    },
    {
      "cell_type": "code",
      "source": [
        "# val로 확인\n",
        "models_to_val = {\n",
        "    simpleCNN_info[\"model_title\"]: model_simpleCNN,\n",
        "    resNet18_FE_info[\"model_title\"] : model_resNet18_FE,\n",
        "    resNet18_P_info[\"model_title\"] : model_resNet18_P,\n",
        "    resNet18_FT_info[\"model_title\"] : model_resNet18_FT\n",
        "}\n",
        "\n",
        "results = {\"Model\": [], \"Accuracy\": [], \"Precision\": [], \"Recall\": [], \"F1-score\": []}\n",
        "cm_data = {}\n",
        "\n",
        "criterion = torch.nn.CrossEntropyLoss()\n",
        "\n",
        "for model_name, model in models_to_val.items():\n",
        "    acc, prec, rec, f1, y_true, y_pred = evaluate_model(\n",
        "        model, val_loader, criterion, device, model_name, threshold=0.5\n",
        "    )\n",
        "    results[\"Model\"].append(model_name)\n",
        "    results[\"Accuracy\"].append(acc)\n",
        "    results[\"Precision\"].append(prec)\n",
        "    results[\"Recall\"].append(rec)\n",
        "    results[\"F1-score\"].append(f1)\n",
        "    cm_data[model_name] = (y_true, y_pred)\n",
        "\n",
        "df_val_results = pd.DataFrame(results)\n",
        "\n",
        "# 학습 소요 시간 추가\n",
        "df_val_results[\"Learning Time\"] =  [simpleCNN_info[\"elapsed\"],\n",
        "                                resNet18_FE_info[\"elapsed\"],\n",
        "                                resNet18_P_info[\"elapsed\"],\n",
        "                                resNet18_FT_info[\"elapsed\"]\n",
        "    ]\n",
        "\n",
        "print(\"\\n\", \"=\"*35, \"Val Score\", \"=\"*35)\n",
        "display(df_val_results.style.format({\n",
        "    \"Accuracy\": \"{:.2%}\",\n",
        "    \"Precision\": \"{:.4f}\",\n",
        "    \"Recall\": \"{:.4f}\",\n",
        "    \"F1-score\": \"{:.4f}\"\n",
        "}))\n",
        "\n",
        "# 혼동행렬\n",
        "fig, axes = plt.subplots(2, 2, figsize=(6, 5))\n",
        "axes = axes.ravel()\n",
        "\n",
        "for ax, (model_name, _) in zip(axes, models_to_val.items()):\n",
        "    y_true, y_pred = cm_data[model_name]\n",
        "    cm = confusion_matrix(y_true, y_pred)\n",
        "    sns.heatmap(cm, annot=True, fmt=\"d\", cmap=\"Blues\",\n",
        "                xticklabels=[\"Normal\", \"Pneumonia\"],\n",
        "                yticklabels=[\"Normal\", \"Pneumonia\"],\n",
        "                ax=ax, cbar=False)\n",
        "    ax.set_title(model_name)\n",
        "    ax.set_xlabel(\"Predicted\"); ax.set_ylabel(\"True\")\n",
        "\n",
        "plt.tight_layout()\n",
        "plt.show()"
      ],
      "metadata": {
        "colab": {
          "base_uri": "https://localhost:8080/",
          "height": 1000
        },
        "id": "x9LlUJdHSSne",
        "outputId": "7e1a1ada-64e4-457f-d765-9a10ac02cabb"
      },
      "execution_count": 46,
      "outputs": [
        {
          "output_type": "stream",
          "name": "stdout",
          "text": [
            "\n",
            " =============== SimpleCNN ===============\n",
            "📊 Classification Report for SimpleCNN\n",
            "              precision    recall  f1-score   support\n",
            "\n",
            "      Normal       0.98      0.79      0.88       276\n",
            "   Pneumonia       0.89      0.99      0.94       454\n",
            "\n",
            "    accuracy                           0.92       730\n",
            "   macro avg       0.93      0.89      0.91       730\n",
            "weighted avg       0.92      0.92      0.91       730\n",
            "\n",
            "✅ Loss: 0.2524\n",
            "✅ Accuracy: 91.51%\n",
            "✅ Precision: 0.8874\n",
            "✅ Recall: 0.9890\n",
            "✅ F1-score: 0.9354 \n",
            "\n",
            "\n",
            " =============== resNet18 (Frozen) ===============\n",
            "📊 Classification Report for resNet18 (Frozen)\n",
            "              precision    recall  f1-score   support\n",
            "\n",
            "      Normal       0.94      0.96      0.95       276\n",
            "   Pneumonia       0.98      0.96      0.97       454\n",
            "\n",
            "    accuracy                           0.96       730\n",
            "   macro avg       0.96      0.96      0.96       730\n",
            "weighted avg       0.96      0.96      0.96       730\n",
            "\n",
            "✅ Loss: 0.1342\n",
            "✅ Accuracy: 96.30%\n",
            "✅ Precision: 0.9776\n",
            "✅ Recall: 0.9626\n",
            "✅ F1-score: 0.9700 \n",
            "\n",
            "\n",
            " =============== resNet18 (Partial) ===============\n",
            "📊 Classification Report for resNet18 (Partial)\n",
            "              precision    recall  f1-score   support\n",
            "\n",
            "      Normal       0.98      0.88      0.93       276\n",
            "   Pneumonia       0.93      0.99      0.96       454\n",
            "\n",
            "    accuracy                           0.95       730\n",
            "   macro avg       0.96      0.93      0.94       730\n",
            "weighted avg       0.95      0.95      0.95       730\n",
            "\n",
            "✅ Loss: 0.1397\n",
            "✅ Accuracy: 94.79%\n",
            "✅ Precision: 0.9298\n",
            "✅ Recall: 0.9912\n",
            "✅ F1-score: 0.9595 \n",
            "\n",
            "\n",
            " =============== resNet18 (Fine-tuning) ===============\n",
            "📊 Classification Report for resNet18 (Fine-tuning)\n",
            "              precision    recall  f1-score   support\n",
            "\n",
            "      Normal       0.98      0.87      0.92       276\n",
            "   Pneumonia       0.92      0.99      0.95       454\n",
            "\n",
            "    accuracy                           0.94       730\n",
            "   macro avg       0.95      0.93      0.94       730\n",
            "weighted avg       0.94      0.94      0.94       730\n",
            "\n",
            "✅ Loss: 0.1656\n",
            "✅ Accuracy: 94.11%\n",
            "✅ Precision: 0.9237\n",
            "✅ Recall: 0.9868\n",
            "✅ F1-score: 0.9542 \n",
            "\n",
            "\n",
            " =================================== Val Score ===================================\n"
          ]
        },
        {
          "output_type": "display_data",
          "data": {
            "text/plain": [
              "<pandas.io.formats.style.Styler at 0x21f075f2f30>"
            ],
            "text/html": [
              "<style type=\"text/css\">\n",
              "</style>\n",
              "<table id=\"T_63503\">\n",
              "  <thead>\n",
              "    <tr>\n",
              "      <th class=\"blank level0\" >&nbsp;</th>\n",
              "      <th id=\"T_63503_level0_col0\" class=\"col_heading level0 col0\" >Model</th>\n",
              "      <th id=\"T_63503_level0_col1\" class=\"col_heading level0 col1\" >Accuracy</th>\n",
              "      <th id=\"T_63503_level0_col2\" class=\"col_heading level0 col2\" >Precision</th>\n",
              "      <th id=\"T_63503_level0_col3\" class=\"col_heading level0 col3\" >Recall</th>\n",
              "      <th id=\"T_63503_level0_col4\" class=\"col_heading level0 col4\" >F1-score</th>\n",
              "      <th id=\"T_63503_level0_col5\" class=\"col_heading level0 col5\" >Learning Time</th>\n",
              "    </tr>\n",
              "  </thead>\n",
              "  <tbody>\n",
              "    <tr>\n",
              "      <th id=\"T_63503_level0_row0\" class=\"row_heading level0 row0\" >0</th>\n",
              "      <td id=\"T_63503_row0_col0\" class=\"data row0 col0\" >SimpleCNN</td>\n",
              "      <td id=\"T_63503_row0_col1\" class=\"data row0 col1\" >91.51%</td>\n",
              "      <td id=\"T_63503_row0_col2\" class=\"data row0 col2\" >0.8874</td>\n",
              "      <td id=\"T_63503_row0_col3\" class=\"data row0 col3\" >0.9890</td>\n",
              "      <td id=\"T_63503_row0_col4\" class=\"data row0 col4\" >0.9354</td>\n",
              "      <td id=\"T_63503_row0_col5\" class=\"data row0 col5\" >0:14:53 (epoch 22)</td>\n",
              "    </tr>\n",
              "    <tr>\n",
              "      <th id=\"T_63503_level0_row1\" class=\"row_heading level0 row1\" >1</th>\n",
              "      <td id=\"T_63503_row1_col0\" class=\"data row1 col0\" >resNet18 (Frozen)</td>\n",
              "      <td id=\"T_63503_row1_col1\" class=\"data row1 col1\" >96.30%</td>\n",
              "      <td id=\"T_63503_row1_col2\" class=\"data row1 col2\" >0.9776</td>\n",
              "      <td id=\"T_63503_row1_col3\" class=\"data row1 col3\" >0.9626</td>\n",
              "      <td id=\"T_63503_row1_col4\" class=\"data row1 col4\" >0.9700</td>\n",
              "      <td id=\"T_63503_row1_col5\" class=\"data row1 col5\" >0:10:04 (epoch 15)</td>\n",
              "    </tr>\n",
              "    <tr>\n",
              "      <th id=\"T_63503_level0_row2\" class=\"row_heading level0 row2\" >2</th>\n",
              "      <td id=\"T_63503_row2_col0\" class=\"data row2 col0\" >resNet18 (Partial)</td>\n",
              "      <td id=\"T_63503_row2_col1\" class=\"data row2 col1\" >94.79%</td>\n",
              "      <td id=\"T_63503_row2_col2\" class=\"data row2 col2\" >0.9298</td>\n",
              "      <td id=\"T_63503_row2_col3\" class=\"data row2 col3\" >0.9912</td>\n",
              "      <td id=\"T_63503_row2_col4\" class=\"data row2 col4\" >0.9595</td>\n",
              "      <td id=\"T_63503_row2_col5\" class=\"data row2 col5\" >0:09:25 (epoch 14)</td>\n",
              "    </tr>\n",
              "    <tr>\n",
              "      <th id=\"T_63503_level0_row3\" class=\"row_heading level0 row3\" >3</th>\n",
              "      <td id=\"T_63503_row3_col0\" class=\"data row3 col0\" >resNet18 (Fine-tuning)</td>\n",
              "      <td id=\"T_63503_row3_col1\" class=\"data row3 col1\" >94.11%</td>\n",
              "      <td id=\"T_63503_row3_col2\" class=\"data row3 col2\" >0.9237</td>\n",
              "      <td id=\"T_63503_row3_col3\" class=\"data row3 col3\" >0.9868</td>\n",
              "      <td id=\"T_63503_row3_col4\" class=\"data row3 col4\" >0.9542</td>\n",
              "      <td id=\"T_63503_row3_col5\" class=\"data row3 col5\" >0:14:52 (epoch 22)</td>\n",
              "    </tr>\n",
              "  </tbody>\n",
              "</table>\n"
            ]
          },
          "metadata": {}
        },
        {
          "output_type": "display_data",
          "data": {
            "text/plain": [
              "<Figure size 600x500 with 4 Axes>"
            ],
            "image/png": "[encoded data removed]"
          },
          "metadata": {}
        }
      ]
    },
    {
      "cell_type": "markdown",
      "source": [
        "## 4-2. Threshold 찾기\n",
        "- 전체적으로 f1스코어를 높이기 위한 방법을 고민\n",
        "- 기본값 0.5가 아닌 각 모델의 f1 스코어의 임계값을 찾아서 적용\n",
        "- 검증 데이터셋으로 `최적의 임계값` (Threshold) 을 찾아 테스트 셋에 적용하는 것으로 진행"
      ],
      "metadata": {
        "id": "UAaEFS2nzVU4"
      }
    },
    {
      "cell_type": "code",
      "source": [
        "@torch.inference_mode()\n",
        "def find_best_threshold(model, val_loader, device, target='f1', prec_target=0.85, temp_scaler=None):\n",
        "    model.eval()\n",
        "    y, p = predict_proba(model, val_loader, device, temp_scaler=temp_scaler)\n",
        "\n",
        "    if target == 'f1':\n",
        "        ts = np.linspace(0.1, 0.9, 81)\n",
        "        f1s = [f1_score(y, (p >= t).astype(int)) for t in ts]\n",
        "        return float(ts[int(np.argmax(f1s))])\n",
        "    else:\n",
        "        # 정밀도(precision) >= prec_target에서 재현율 최대가 되는 임계값\n",
        "        prec, rec, ts = precision_recall_curve(y, p)\n",
        "        mask = prec[:-1] >= prec_target\n",
        "        return float(ts[mask][np.argmax(rec[:-1][mask])]) if mask.any() else 0.5"
      ],
      "metadata": {
        "id": "AD4Uhr5o3_nt"
      },
      "execution_count": 56,
      "outputs": []
    },
    {
      "cell_type": "code",
      "source": [
        "# 각 모델별로 threshold\n",
        "thresholds = {}\n",
        "for name, model in models_to_val.items():\n",
        "    t_star = find_best_threshold(model, val_loader, device, target='f1')\n",
        "    thresholds[name] = t_star\n",
        "    print(f\"[{name}] best threshold on val = {t_star:.3f}\")"
      ],
      "metadata": {
        "colab": {
          "base_uri": "https://localhost:8080/"
        },
        "id": "1OuYGeTGMCgc",
        "outputId": "0d94d8c6-f91e-4b5b-c93d-c302bc1d4089"
      },
      "execution_count": 57,
      "outputs": [
        {
          "output_type": "stream",
          "name": "stdout",
          "text": [
            "[SimpleCNN] best threshold on val = 0.690\n",
            "[resNet18 (Frozen)] best threshold on val = 0.490\n",
            "[resNet18 (Partial)] best threshold on val = 0.610\n",
            "[resNet18 (Fine-tuning)] best threshold on val = 0.640\n"
          ]
        }
      ]
    },
    {
      "cell_type": "markdown",
      "source": [
        "## 4-3. 테스트(test) 데이터셋에 Threshold 적용 및 지표 확인\n",
        "- threshold 값을 적용하지 않은 test셋과 적용한 test셋 결과 지표 비교"
      ],
      "metadata": {
        "id": "HB3Lls_jW0n9"
      }
    },
    {
      "cell_type": "code",
      "source": [
        "# test로 확인 (Threshold 적용X)\n",
        "models_to_test = models_to_val\n",
        "\n",
        "test_results = {\"Model\": [], \"Accuracy\": [], \"Precision\": [], \"Recall\": [], \"F1-score\": []}\n",
        "cm_test_base = {}\n",
        "\n",
        "for model_name, model in models_to_test.items():\n",
        "    acc, prec, rec, f1, y_true, y_pred = evaluate_model(\n",
        "        model, test_loader, criterion, device, model_name, threshold=0.5\n",
        "    )\n",
        "    test_results[\"Model\"].append(model_name)\n",
        "    test_results[\"Accuracy\"].append(acc)\n",
        "    test_results[\"Precision\"].append(prec)\n",
        "    test_results[\"Recall\"].append(rec)\n",
        "    test_results[\"F1-score\"].append(f1)\n",
        "    cm_test_base[model_name] = (y_true, y_pred)\n",
        "\n",
        "df_test_results = pd.DataFrame(test_results)\n",
        "\n",
        "print(\"\\n\", \"=\"*35, \"Test Score\", \"=\"*35)\n",
        "display(df_test_results.style.format({\n",
        "    \"Accuracy\": \"{:.2%}\",\n",
        "    \"Precision\": \"{:.4f}\",\n",
        "    \"Recall\": \"{:.4f}\",\n",
        "    \"F1-score\": \"{:.4f}\"\n",
        "}))\n",
        "\n",
        "# 혼동행렬\n",
        "fig, axes = plt.subplots(2, 2, figsize=(6, 5))\n",
        "axes = axes.ravel()\n",
        "\n",
        "for ax, (model_name, _) in zip(axes, models_to_test.items()):\n",
        "    y_true, y_pred = cm_test_base[model_name]\n",
        "    cm = confusion_matrix(y_true, y_pred)\n",
        "    sns.heatmap(cm, annot=True, fmt=\"d\", cmap=\"Blues\",\n",
        "                xticklabels=[\"Normal\", \"Pneumonia\"],\n",
        "                yticklabels=[\"Normal\", \"Pneumonia\"],\n",
        "                ax=ax, cbar=False)\n",
        "    ax.set_title(model_name)\n",
        "    ax.set_xlabel(\"Predicted\"); ax.set_ylabel(\"True\")\n",
        "\n",
        "plt.tight_layout()\n",
        "plt.show()"
      ],
      "metadata": {
        "colab": {
          "base_uri": "https://localhost:8080/",
          "height": 1000
        },
        "id": "30PFhEhycf61",
        "outputId": "3ca1e2a9-9208-4054-b8b8-ea2bacc2139c"
      },
      "execution_count": 58,
      "outputs": [
        {
          "output_type": "stream",
          "name": "stdout",
          "text": [
            "\n",
            " =============== SimpleCNN ===============\n",
            "📊 Classification Report for SimpleCNN\n",
            "              precision    recall  f1-score   support\n",
            "\n",
            "      Normal       0.94      0.19      0.31       234\n",
            "   Pneumonia       0.67      0.99      0.80       390\n",
            "\n",
            "    accuracy                           0.69       624\n",
            "   macro avg       0.80      0.59      0.56       624\n",
            "weighted avg       0.77      0.69      0.62       624\n",
            "\n",
            "✅ Loss: 0.7492\n",
            "✅ Accuracy: 69.07%\n",
            "✅ Precision: 0.6707\n",
            "✅ Recall: 0.9923\n",
            "✅ F1-score: 0.8004 \n",
            "\n",
            "\n",
            " =============== resNet18 (Frozen) ===============\n",
            "📊 Classification Report for resNet18 (Frozen)\n",
            "              precision    recall  f1-score   support\n",
            "\n",
            "      Normal       0.95      0.52      0.67       234\n",
            "   Pneumonia       0.77      0.98      0.86       390\n",
            "\n",
            "    accuracy                           0.81       624\n",
            "   macro avg       0.86      0.75      0.77       624\n",
            "weighted avg       0.84      0.81      0.79       624\n",
            "\n",
            "✅ Loss: 0.4117\n",
            "✅ Accuracy: 80.77%\n",
            "✅ Precision: 0.7722\n",
            "✅ Recall: 0.9821\n",
            "✅ F1-score: 0.8646 \n",
            "\n",
            "\n",
            " =============== resNet18 (Partial) ===============\n",
            "📊 Classification Report for resNet18 (Partial)\n",
            "              precision    recall  f1-score   support\n",
            "\n",
            "      Normal       0.98      0.35      0.51       234\n",
            "   Pneumonia       0.72      0.99      0.83       390\n",
            "\n",
            "    accuracy                           0.75       624\n",
            "   macro avg       0.85      0.67      0.67       624\n",
            "weighted avg       0.81      0.75      0.71       624\n",
            "\n",
            "✅ Loss: 0.6004\n",
            "✅ Accuracy: 75.16%\n",
            "✅ Precision: 0.7172\n",
            "✅ Recall: 0.9949\n",
            "✅ F1-score: 0.8335 \n",
            "\n",
            "\n",
            " =============== resNet18 (Fine-tuning) ===============\n",
            "📊 Classification Report for resNet18 (Fine-tuning)\n",
            "              precision    recall  f1-score   support\n",
            "\n",
            "      Normal       1.00      0.35      0.52       234\n",
            "   Pneumonia       0.72      1.00      0.84       390\n",
            "\n",
            "    accuracy                           0.76       624\n",
            "   macro avg       0.86      0.68      0.68       624\n",
            "weighted avg       0.83      0.76      0.72       624\n",
            "\n",
            "✅ Loss: 0.5723\n",
            "✅ Accuracy: 75.80%\n",
            "✅ Precision: 0.7209\n",
            "✅ Recall: 1.0000\n",
            "✅ F1-score: 0.8378 \n",
            "\n",
            "\n",
            " =================================== Test Score ===================================\n"
          ]
        },
        {
          "output_type": "display_data",
          "data": {
            "text/plain": [
              "<pandas.io.formats.style.Styler at 0x21e3db3f0b0>"
            ],
            "text/html": [
              "<style type=\"text/css\">\n",
              "</style>\n",
              "<table id=\"T_d3a62\">\n",
              "  <thead>\n",
              "    <tr>\n",
              "      <th class=\"blank level0\" >&nbsp;</th>\n",
              "      <th id=\"T_d3a62_level0_col0\" class=\"col_heading level0 col0\" >Model</th>\n",
              "      <th id=\"T_d3a62_level0_col1\" class=\"col_heading level0 col1\" >Accuracy</th>\n",
              "      <th id=\"T_d3a62_level0_col2\" class=\"col_heading level0 col2\" >Precision</th>\n",
              "      <th id=\"T_d3a62_level0_col3\" class=\"col_heading level0 col3\" >Recall</th>\n",
              "      <th id=\"T_d3a62_level0_col4\" class=\"col_heading level0 col4\" >F1-score</th>\n",
              "    </tr>\n",
              "  </thead>\n",
              "  <tbody>\n",
              "    <tr>\n",
              "      <th id=\"T_d3a62_level0_row0\" class=\"row_heading level0 row0\" >0</th>\n",
              "      <td id=\"T_d3a62_row0_col0\" class=\"data row0 col0\" >SimpleCNN</td>\n",
              "      <td id=\"T_d3a62_row0_col1\" class=\"data row0 col1\" >69.07%</td>\n",
              "      <td id=\"T_d3a62_row0_col2\" class=\"data row0 col2\" >0.6707</td>\n",
              "      <td id=\"T_d3a62_row0_col3\" class=\"data row0 col3\" >0.9923</td>\n",
              "      <td id=\"T_d3a62_row0_col4\" class=\"data row0 col4\" >0.8004</td>\n",
              "    </tr>\n",
              "    <tr>\n",
              "      <th id=\"T_d3a62_level0_row1\" class=\"row_heading level0 row1\" >1</th>\n",
              "      <td id=\"T_d3a62_row1_col0\" class=\"data row1 col0\" >resNet18 (Frozen)</td>\n",
              "      <td id=\"T_d3a62_row1_col1\" class=\"data row1 col1\" >80.77%</td>\n",
              "      <td id=\"T_d3a62_row1_col2\" class=\"data row1 col2\" >0.7722</td>\n",
              "      <td id=\"T_d3a62_row1_col3\" class=\"data row1 col3\" >0.9821</td>\n",
              "      <td id=\"T_d3a62_row1_col4\" class=\"data row1 col4\" >0.8646</td>\n",
              "    </tr>\n",
              "    <tr>\n",
              "      <th id=\"T_d3a62_level0_row2\" class=\"row_heading level0 row2\" >2</th>\n",
              "      <td id=\"T_d3a62_row2_col0\" class=\"data row2 col0\" >resNet18 (Partial)</td>\n",
              "      <td id=\"T_d3a62_row2_col1\" class=\"data row2 col1\" >75.16%</td>\n",
              "      <td id=\"T_d3a62_row2_col2\" class=\"data row2 col2\" >0.7172</td>\n",
              "      <td id=\"T_d3a62_row2_col3\" class=\"data row2 col3\" >0.9949</td>\n",
              "      <td id=\"T_d3a62_row2_col4\" class=\"data row2 col4\" >0.8335</td>\n",
              "    </tr>\n",
              "    <tr>\n",
              "      <th id=\"T_d3a62_level0_row3\" class=\"row_heading level0 row3\" >3</th>\n",
              "      <td id=\"T_d3a62_row3_col0\" class=\"data row3 col0\" >resNet18 (Fine-tuning)</td>\n",
              "      <td id=\"T_d3a62_row3_col1\" class=\"data row3 col1\" >75.80%</td>\n",
              "      <td id=\"T_d3a62_row3_col2\" class=\"data row3 col2\" >0.7209</td>\n",
              "      <td id=\"T_d3a62_row3_col3\" class=\"data row3 col3\" >1.0000</td>\n",
              "      <td id=\"T_d3a62_row3_col4\" class=\"data row3 col4\" >0.8378</td>\n",
              "    </tr>\n",
              "  </tbody>\n",
              "</table>\n"
            ]
          },
          "metadata": {}
        },
        {
          "output_type": "display_data",
          "data": {
            "text/plain": [
              "<Figure size 600x500 with 4 Axes>"
            ],
            "image/png": "[encoded data removed]"
          },
          "metadata": {}
        }
      ]
    },
    {
      "cell_type": "code",
      "source": [
        "models_to_test_with_threshold = models_to_val  # 동일한 dict 재사용\n",
        "\n",
        "test_with_threshold_results = {\"Model\": [], \"Accuracy\": [], \"Precision\": [], \"Recall\": [], \"F1-score\": []}\n",
        "cm_test_with_threshold = {}\n",
        "\n",
        "for name, model in models_to_test_with_threshold.items():\n",
        "    t = float(thresholds.get(name, 0.5))\n",
        "    print(f\"\\n>>> Testing [{name}] with threshold = {t:.3f}\")\n",
        "    acc, prec, rec, f1, y_true, y_pred = evaluate_model(\n",
        "        model=model,\n",
        "        dataloader=test_loader,\n",
        "        criterion=criterion,\n",
        "        device=device,\n",
        "        model_name=f\"{name} @ t={t:.3f}\",\n",
        "        threshold=t,\n",
        "    )\n",
        "    test_with_threshold_results[\"Model\"].append(name)\n",
        "    test_with_threshold_results[\"Accuracy\"].append(acc)\n",
        "    test_with_threshold_results[\"Precision\"].append(prec)\n",
        "    test_with_threshold_results[\"Recall\"].append(rec)\n",
        "    test_with_threshold_results[\"F1-score\"].append(f1)\n",
        "    cm_test_with_threshold[name] = (y_true, y_pred)\n",
        "\n",
        "df_test_with_threshold = pd.DataFrame(test_with_threshold_results)\n",
        "print(\"\\n\", \"=\"*25, \"Test Score (tuned thresholds)\", \"=\"*25)\n",
        "display(df_test_with_threshold.style.format({\n",
        "    \"Accuracy\": \"{:.2%}\",\n",
        "    \"Precision\": \"{:.4f}\",\n",
        "    \"Recall\": \"{:.4f}\",\n",
        "    \"F1-score\": \"{:.4f}\"\n",
        "}))\n",
        "\n",
        "fig, axes = plt.subplots(2, 2, figsize=(6, 5))  # 모델 4개 기준\n",
        "axes = axes.ravel()\n",
        "for ax, (name, _) in zip(axes, models_to_test_with_threshold.items()):\n",
        "    y_true, y_pred = cm_test_with_threshold[name]\n",
        "    cm = confusion_matrix(y_true, y_pred)\n",
        "    sns.heatmap(cm, annot=True, fmt=\"d\", cmap=\"Blues\",\n",
        "                xticklabels=[\"Normal\", \"Pneumonia\"],\n",
        "                yticklabels=[\"Normal\", \"Pneumonia\"],\n",
        "                ax=ax, cbar=False)\n",
        "    ax.set_title(name)\n",
        "    ax.set_xlabel(\"Predicted\"); ax.set_ylabel(\"True\")\n",
        "plt.tight_layout(); plt.show()"
      ],
      "metadata": {
        "colab": {
          "base_uri": "https://localhost:8080/",
          "height": 1000
        },
        "id": "TEBy9txaWrrl",
        "outputId": "30b204d8-8756-416b-f0e4-9ef507f6c168"
      },
      "execution_count": 59,
      "outputs": [
        {
          "output_type": "stream",
          "name": "stdout",
          "text": [
            "\n",
            ">>> Testing [SimpleCNN] with threshold = 0.690\n",
            "\n",
            " =============== SimpleCNN @ t=0.690 ===============\n",
            "📊 Classification Report for SimpleCNN @ t=0.690\n",
            "              precision    recall  f1-score   support\n",
            "\n",
            "      Normal       0.93      0.29      0.45       234\n",
            "   Pneumonia       0.70      0.99      0.82       390\n",
            "\n",
            "    accuracy                           0.73       624\n",
            "   macro avg       0.82      0.64      0.63       624\n",
            "weighted avg       0.79      0.73      0.68       624\n",
            "\n",
            "✅ Loss: 0.7492\n",
            "✅ Accuracy: 72.76%\n",
            "✅ Precision: 0.7000\n",
            "✅ Recall: 0.9872\n",
            "✅ F1-score: 0.8191 \n",
            "\n",
            "\n",
            ">>> Testing [resNet18 (Frozen)] with threshold = 0.490\n",
            "\n",
            " =============== resNet18 (Frozen) @ t=0.490 ===============\n",
            "📊 Classification Report for resNet18 (Frozen) @ t=0.490\n",
            "              precision    recall  f1-score   support\n",
            "\n",
            "      Normal       0.94      0.51      0.66       234\n",
            "   Pneumonia       0.77      0.98      0.86       390\n",
            "\n",
            "    accuracy                           0.81       624\n",
            "   macro avg       0.86      0.75      0.76       624\n",
            "weighted avg       0.84      0.81      0.79       624\n",
            "\n",
            "✅ Loss: 0.4117\n",
            "✅ Accuracy: 80.61%\n",
            "✅ Precision: 0.7706\n",
            "✅ Recall: 0.9821\n",
            "✅ F1-score: 0.8636 \n",
            "\n",
            "\n",
            ">>> Testing [resNet18 (Partial)] with threshold = 0.610\n",
            "\n",
            " =============== resNet18 (Partial) @ t=0.610 ===============\n",
            "📊 Classification Report for resNet18 (Partial) @ t=0.610\n",
            "              precision    recall  f1-score   support\n",
            "\n",
            "      Normal       0.97      0.42      0.59       234\n",
            "   Pneumonia       0.74      0.99      0.85       390\n",
            "\n",
            "    accuracy                           0.78       624\n",
            "   macro avg       0.86      0.71      0.72       624\n",
            "weighted avg       0.83      0.78      0.75       624\n",
            "\n",
            "✅ Loss: 0.6004\n",
            "✅ Accuracy: 77.72%\n",
            "✅ Precision: 0.7400\n",
            "✅ Recall: 0.9923\n",
            "✅ F1-score: 0.8478 \n",
            "\n",
            "\n",
            ">>> Testing [resNet18 (Fine-tuning)] with threshold = 0.640\n",
            "\n",
            " =============== resNet18 (Fine-tuning) @ t=0.640 ===============\n",
            "📊 Classification Report for resNet18 (Fine-tuning) @ t=0.640\n",
            "              precision    recall  f1-score   support\n",
            "\n",
            "      Normal       0.99      0.48      0.65       234\n",
            "   Pneumonia       0.76      1.00      0.86       390\n",
            "\n",
            "    accuracy                           0.80       624\n",
            "   macro avg       0.88      0.74      0.75       624\n",
            "weighted avg       0.85      0.80      0.78       624\n",
            "\n",
            "✅ Loss: 0.5723\n",
            "✅ Accuracy: 80.29%\n",
            "✅ Precision: 0.7613\n",
            "✅ Recall: 0.9974\n",
            "✅ F1-score: 0.8635 \n",
            "\n",
            "\n",
            " ========================= Test Score (tuned thresholds) =========================\n"
          ]
        },
        {
          "output_type": "display_data",
          "data": {
            "text/plain": [
              "<pandas.io.formats.style.Styler at 0x21f558537a0>"
            ],
            "text/html": [
              "<style type=\"text/css\">\n",
              "</style>\n",
              "<table id=\"T_caa60\">\n",
              "  <thead>\n",
              "    <tr>\n",
              "      <th class=\"blank level0\" >&nbsp;</th>\n",
              "      <th id=\"T_caa60_level0_col0\" class=\"col_heading level0 col0\" >Model</th>\n",
              "      <th id=\"T_caa60_level0_col1\" class=\"col_heading level0 col1\" >Accuracy</th>\n",
              "      <th id=\"T_caa60_level0_col2\" class=\"col_heading level0 col2\" >Precision</th>\n",
              "      <th id=\"T_caa60_level0_col3\" class=\"col_heading level0 col3\" >Recall</th>\n",
              "      <th id=\"T_caa60_level0_col4\" class=\"col_heading level0 col4\" >F1-score</th>\n",
              "    </tr>\n",
              "  </thead>\n",
              "  <tbody>\n",
              "    <tr>\n",
              "      <th id=\"T_caa60_level0_row0\" class=\"row_heading level0 row0\" >0</th>\n",
              "      <td id=\"T_caa60_row0_col0\" class=\"data row0 col0\" >SimpleCNN</td>\n",
              "      <td id=\"T_caa60_row0_col1\" class=\"data row0 col1\" >72.76%</td>\n",
              "      <td id=\"T_caa60_row0_col2\" class=\"data row0 col2\" >0.7000</td>\n",
              "      <td id=\"T_caa60_row0_col3\" class=\"data row0 col3\" >0.9872</td>\n",
              "      <td id=\"T_caa60_row0_col4\" class=\"data row0 col4\" >0.8191</td>\n",
              "    </tr>\n",
              "    <tr>\n",
              "      <th id=\"T_caa60_level0_row1\" class=\"row_heading level0 row1\" >1</th>\n",
              "      <td id=\"T_caa60_row1_col0\" class=\"data row1 col0\" >resNet18 (Frozen)</td>\n",
              "      <td id=\"T_caa60_row1_col1\" class=\"data row1 col1\" >80.61%</td>\n",
              "      <td id=\"T_caa60_row1_col2\" class=\"data row1 col2\" >0.7706</td>\n",
              "      <td id=\"T_caa60_row1_col3\" class=\"data row1 col3\" >0.9821</td>\n",
              "      <td id=\"T_caa60_row1_col4\" class=\"data row1 col4\" >0.8636</td>\n",
              "    </tr>\n",
              "    <tr>\n",
              "      <th id=\"T_caa60_level0_row2\" class=\"row_heading level0 row2\" >2</th>\n",
              "      <td id=\"T_caa60_row2_col0\" class=\"data row2 col0\" >resNet18 (Partial)</td>\n",
              "      <td id=\"T_caa60_row2_col1\" class=\"data row2 col1\" >77.72%</td>\n",
              "      <td id=\"T_caa60_row2_col2\" class=\"data row2 col2\" >0.7400</td>\n",
              "      <td id=\"T_caa60_row2_col3\" class=\"data row2 col3\" >0.9923</td>\n",
              "      <td id=\"T_caa60_row2_col4\" class=\"data row2 col4\" >0.8478</td>\n",
              "    </tr>\n",
              "    <tr>\n",
              "      <th id=\"T_caa60_level0_row3\" class=\"row_heading level0 row3\" >3</th>\n",
              "      <td id=\"T_caa60_row3_col0\" class=\"data row3 col0\" >resNet18 (Fine-tuning)</td>\n",
              "      <td id=\"T_caa60_row3_col1\" class=\"data row3 col1\" >80.29%</td>\n",
              "      <td id=\"T_caa60_row3_col2\" class=\"data row3 col2\" >0.7613</td>\n",
              "      <td id=\"T_caa60_row3_col3\" class=\"data row3 col3\" >0.9974</td>\n",
              "      <td id=\"T_caa60_row3_col4\" class=\"data row3 col4\" >0.8635</td>\n",
              "    </tr>\n",
              "  </tbody>\n",
              "</table>\n"
            ]
          },
          "metadata": {}
        },
        {
          "output_type": "display_data",
          "data": {
            "text/plain": [
              "<Figure size 600x500 with 4 Axes>"
            ],
            "image/png": "[encoded data removed]"
          },
          "metadata": {}
        }
      ]
    },
    {
      "cell_type": "code",
      "source": [
        "df_test_with_threshold = df_test_with_threshold.copy()\n",
        "df_test_with_threshold[\"Threshold\"] = df_test_with_threshold[\"Model\"].map(thresholds)\n",
        "\n",
        "left  = df_test_results.rename(columns={\n",
        "    \"Accuracy\":\"Accuracy (0.5)\", \"Precision\":\"Precision (0.5)\", \"Recall\":\"Recall (0.5)\", \"F1-score\":\"F1 (0.5)\"\n",
        "})\n",
        "right = df_test_with_threshold.rename(columns={\n",
        "    \"Accuracy\":\"Accuracy (tuned)\", \"Precision\":\"Precision (tuned)\", \"Recall\":\"Recall (tuned)\", \"F1-score\":\"F1 (tuned)\"\n",
        "})\n",
        "\n",
        "compare = left.merge(right[[\"Model\",\"Threshold\",\"Accuracy (tuned)\",\"Precision (tuned)\",\"Recall (tuned)\",\"F1 (tuned)\"]],\n",
        "                     on=\"Model\", how=\"inner\")\n",
        "\n",
        "for m in [\"Accuracy\",\"Precision\",\"Recall\",\"F1\"]:\n",
        "    compare[f\"{m} Δ\"] = compare[f\"{m} (tuned)\"] - compare[f\"{m} (0.5)\"]\n",
        "\n",
        "compare = compare.sort_values(\"F1 (tuned)\", ascending=False)\n",
        "\n",
        "display(compare.style.format({\n",
        "    \"Accuracy (0.5)\":\"{:.2%}\", \"Accuracy (tuned)\":\"{:.2%}\", \"Accuracy Δ\":\"{:+.2%}\",\n",
        "    \"Precision (0.5)\":\"{:.4f}\", \"Precision (tuned)\":\"{:.4f}\", \"Precision Δ\":\"{:+.4f}\",\n",
        "    \"Recall (0.5)\":\"{:.4f}\", \"Recall (tuned)\":\"{:.4f}\", \"Recall Δ\":\"{:+.4f}\",\n",
        "    \"F1 (0.5)\":\"{:.4f}\", \"F1 (tuned)\":\"{:.4f}\", \"F1 Δ\":\"{:+.4f}\"\n",
        "}))"
      ],
      "metadata": {
        "colab": {
          "base_uri": "https://localhost:8080/",
          "height": 126
        },
        "id": "uEH_mkA3i-t1",
        "outputId": "94e1c578-53ce-43a9-b70e-9c4a78944fa4"
      },
      "execution_count": 62,
      "outputs": [
        {
          "output_type": "display_data",
          "data": {
            "text/plain": [
              "<pandas.io.formats.style.Styler at 0x21f57085850>"
            ],
            "text/html": [
              "<style type=\"text/css\">\n",
              "</style>\n",
              "<table id=\"T_ece6c\">\n",
              "  <thead>\n",
              "    <tr>\n",
              "      <th class=\"blank level0\" >&nbsp;</th>\n",
              "      <th id=\"T_ece6c_level0_col0\" class=\"col_heading level0 col0\" >Model</th>\n",
              "      <th id=\"T_ece6c_level0_col1\" class=\"col_heading level0 col1\" >Accuracy (0.5)</th>\n",
              "      <th id=\"T_ece6c_level0_col2\" class=\"col_heading level0 col2\" >Precision (0.5)</th>\n",
              "      <th id=\"T_ece6c_level0_col3\" class=\"col_heading level0 col3\" >Recall (0.5)</th>\n",
              "      <th id=\"T_ece6c_level0_col4\" class=\"col_heading level0 col4\" >F1 (0.5)</th>\n",
              "      <th id=\"T_ece6c_level0_col5\" class=\"col_heading level0 col5\" >Threshold</th>\n",
              "      <th id=\"T_ece6c_level0_col6\" class=\"col_heading level0 col6\" >Accuracy (tuned)</th>\n",
              "      <th id=\"T_ece6c_level0_col7\" class=\"col_heading level0 col7\" >Precision (tuned)</th>\n",
              "      <th id=\"T_ece6c_level0_col8\" class=\"col_heading level0 col8\" >Recall (tuned)</th>\n",
              "      <th id=\"T_ece6c_level0_col9\" class=\"col_heading level0 col9\" >F1 (tuned)</th>\n",
              "      <th id=\"T_ece6c_level0_col10\" class=\"col_heading level0 col10\" >Accuracy Δ</th>\n",
              "      <th id=\"T_ece6c_level0_col11\" class=\"col_heading level0 col11\" >Precision Δ</th>\n",
              "      <th id=\"T_ece6c_level0_col12\" class=\"col_heading level0 col12\" >Recall Δ</th>\n",
              "      <th id=\"T_ece6c_level0_col13\" class=\"col_heading level0 col13\" >F1 Δ</th>\n",
              "    </tr>\n",
              "  </thead>\n",
              "  <tbody>\n",
              "    <tr>\n",
              "      <th id=\"T_ece6c_level0_row0\" class=\"row_heading level0 row0\" >1</th>\n",
              "      <td id=\"T_ece6c_row0_col0\" class=\"data row0 col0\" >resNet18 (Frozen)</td>\n",
              "      <td id=\"T_ece6c_row0_col1\" class=\"data row0 col1\" >80.77%</td>\n",
              "      <td id=\"T_ece6c_row0_col2\" class=\"data row0 col2\" >0.7722</td>\n",
              "      <td id=\"T_ece6c_row0_col3\" class=\"data row0 col3\" >0.9821</td>\n",
              "      <td id=\"T_ece6c_row0_col4\" class=\"data row0 col4\" >0.8646</td>\n",
              "      <td id=\"T_ece6c_row0_col5\" class=\"data row0 col5\" >0.490000</td>\n",
              "      <td id=\"T_ece6c_row0_col6\" class=\"data row0 col6\" >80.61%</td>\n",
              "      <td id=\"T_ece6c_row0_col7\" class=\"data row0 col7\" >0.7706</td>\n",
              "      <td id=\"T_ece6c_row0_col8\" class=\"data row0 col8\" >0.9821</td>\n",
              "      <td id=\"T_ece6c_row0_col9\" class=\"data row0 col9\" >0.8636</td>\n",
              "      <td id=\"T_ece6c_row0_col10\" class=\"data row0 col10\" >-0.16%</td>\n",
              "      <td id=\"T_ece6c_row0_col11\" class=\"data row0 col11\" >-0.0016</td>\n",
              "      <td id=\"T_ece6c_row0_col12\" class=\"data row0 col12\" >+0.0000</td>\n",
              "      <td id=\"T_ece6c_row0_col13\" class=\"data row0 col13\" >-0.0010</td>\n",
              "    </tr>\n",
              "    <tr>\n",
              "      <th id=\"T_ece6c_level0_row1\" class=\"row_heading level0 row1\" >3</th>\n",
              "      <td id=\"T_ece6c_row1_col0\" class=\"data row1 col0\" >resNet18 (Fine-tuning)</td>\n",
              "      <td id=\"T_ece6c_row1_col1\" class=\"data row1 col1\" >75.80%</td>\n",
              "      <td id=\"T_ece6c_row1_col2\" class=\"data row1 col2\" >0.7209</td>\n",
              "      <td id=\"T_ece6c_row1_col3\" class=\"data row1 col3\" >1.0000</td>\n",
              "      <td id=\"T_ece6c_row1_col4\" class=\"data row1 col4\" >0.8378</td>\n",
              "      <td id=\"T_ece6c_row1_col5\" class=\"data row1 col5\" >0.640000</td>\n",
              "      <td id=\"T_ece6c_row1_col6\" class=\"data row1 col6\" >80.29%</td>\n",
              "      <td id=\"T_ece6c_row1_col7\" class=\"data row1 col7\" >0.7613</td>\n",
              "      <td id=\"T_ece6c_row1_col8\" class=\"data row1 col8\" >0.9974</td>\n",
              "      <td id=\"T_ece6c_row1_col9\" class=\"data row1 col9\" >0.8635</td>\n",
              "      <td id=\"T_ece6c_row1_col10\" class=\"data row1 col10\" >+4.49%</td>\n",
              "      <td id=\"T_ece6c_row1_col11\" class=\"data row1 col11\" >+0.0404</td>\n",
              "      <td id=\"T_ece6c_row1_col12\" class=\"data row1 col12\" >-0.0026</td>\n",
              "      <td id=\"T_ece6c_row1_col13\" class=\"data row1 col13\" >+0.0257</td>\n",
              "    </tr>\n",
              "    <tr>\n",
              "      <th id=\"T_ece6c_level0_row2\" class=\"row_heading level0 row2\" >2</th>\n",
              "      <td id=\"T_ece6c_row2_col0\" class=\"data row2 col0\" >resNet18 (Partial)</td>\n",
              "      <td id=\"T_ece6c_row2_col1\" class=\"data row2 col1\" >75.16%</td>\n",
              "      <td id=\"T_ece6c_row2_col2\" class=\"data row2 col2\" >0.7172</td>\n",
              "      <td id=\"T_ece6c_row2_col3\" class=\"data row2 col3\" >0.9949</td>\n",
              "      <td id=\"T_ece6c_row2_col4\" class=\"data row2 col4\" >0.8335</td>\n",
              "      <td id=\"T_ece6c_row2_col5\" class=\"data row2 col5\" >0.610000</td>\n",
              "      <td id=\"T_ece6c_row2_col6\" class=\"data row2 col6\" >77.72%</td>\n",
              "      <td id=\"T_ece6c_row2_col7\" class=\"data row2 col7\" >0.7400</td>\n",
              "      <td id=\"T_ece6c_row2_col8\" class=\"data row2 col8\" >0.9923</td>\n",
              "      <td id=\"T_ece6c_row2_col9\" class=\"data row2 col9\" >0.8478</td>\n",
              "      <td id=\"T_ece6c_row2_col10\" class=\"data row2 col10\" >+2.56%</td>\n",
              "      <td id=\"T_ece6c_row2_col11\" class=\"data row2 col11\" >+0.0228</td>\n",
              "      <td id=\"T_ece6c_row2_col12\" class=\"data row2 col12\" >-0.0026</td>\n",
              "      <td id=\"T_ece6c_row2_col13\" class=\"data row2 col13\" >+0.0142</td>\n",
              "    </tr>\n",
              "    <tr>\n",
              "      <th id=\"T_ece6c_level0_row3\" class=\"row_heading level0 row3\" >0</th>\n",
              "      <td id=\"T_ece6c_row3_col0\" class=\"data row3 col0\" >SimpleCNN</td>\n",
              "      <td id=\"T_ece6c_row3_col1\" class=\"data row3 col1\" >69.07%</td>\n",
              "      <td id=\"T_ece6c_row3_col2\" class=\"data row3 col2\" >0.6707</td>\n",
              "      <td id=\"T_ece6c_row3_col3\" class=\"data row3 col3\" >0.9923</td>\n",
              "      <td id=\"T_ece6c_row3_col4\" class=\"data row3 col4\" >0.8004</td>\n",
              "      <td id=\"T_ece6c_row3_col5\" class=\"data row3 col5\" >0.690000</td>\n",
              "      <td id=\"T_ece6c_row3_col6\" class=\"data row3 col6\" >72.76%</td>\n",
              "      <td id=\"T_ece6c_row3_col7\" class=\"data row3 col7\" >0.7000</td>\n",
              "      <td id=\"T_ece6c_row3_col8\" class=\"data row3 col8\" >0.9872</td>\n",
              "      <td id=\"T_ece6c_row3_col9\" class=\"data row3 col9\" >0.8191</td>\n",
              "      <td id=\"T_ece6c_row3_col10\" class=\"data row3 col10\" >+3.69%</td>\n",
              "      <td id=\"T_ece6c_row3_col11\" class=\"data row3 col11\" >+0.0293</td>\n",
              "      <td id=\"T_ece6c_row3_col12\" class=\"data row3 col12\" >-0.0051</td>\n",
              "      <td id=\"T_ece6c_row3_col13\" class=\"data row3 col13\" >+0.0187</td>\n",
              "    </tr>\n",
              "  </tbody>\n",
              "</table>\n"
            ]
          },
          "metadata": {}
        }
      ]
    },
    {
      "cell_type": "code",
      "source": [
        "def plot_cm_pair(model_name):\n",
        "    y_true0, y_pred0 = cm_test_base[model_name]\n",
        "    y_true1, y_pred1 = cm_test_with_threshold[model_name]\n",
        "\n",
        "    cm0 = confusion_matrix(y_true0, y_pred0)\n",
        "    cm1 = confusion_matrix(y_true1, y_pred1)\n",
        "\n",
        "    fig, axes = plt.subplots(1, 2, figsize=(7.2, 3.2))\n",
        "    for ax, cm, title in zip(\n",
        "        axes,\n",
        "        [cm0, cm1],\n",
        "        [f\"{model_name} (thr=0.5)\", f\"{model_name} (thr={thresholds[model_name]:.3f})\"]\n",
        "    ):\n",
        "        sns.heatmap(cm, annot=True, fmt=\"d\", cmap=\"Blues\",\n",
        "                    xticklabels=[\"Normal\",\"Pneumonia\"], yticklabels=[\"Normal\",\"Pneumonia\"],\n",
        "                    cbar=False, ax=ax)\n",
        "        ax.set_title(title); ax.set_xlabel(\"Predicted\"); ax.set_ylabel(\"True\")\n",
        "    plt.tight_layout(); plt.show()\n",
        "\n",
        "for name in models_to_test_with_threshold.keys():\n",
        "    plot_cm_pair(name)"
      ],
      "metadata": {
        "colab": {
          "base_uri": "https://localhost:8080/",
          "height": 1000
        },
        "id": "0vbL4ZXdjM9L",
        "outputId": "db03b788-43af-4f97-cea2-aadebfdfb3fc"
      },
      "execution_count": 63,
      "outputs": [
        {
          "output_type": "display_data",
          "data": {
            "text/plain": [
              "<Figure size 720x320 with 2 Axes>"
            ],
            "image/png": "[encoded data removed]"
          },
          "metadata": {}
        },
        {
          "output_type": "display_data",
          "data": {
            "text/plain": [
              "<Figure size 720x320 with 2 Axes>"
            ],
            "image/png": "[encoded data removed]"
          },
          "metadata": {}
        },
        {
          "output_type": "display_data",
          "data": {
            "text/plain": [
              "<Figure size 720x320 with 2 Axes>"
            ],
            "image/png": "[encoded data removed]"
          },
          "metadata": {}
        },
        {
          "output_type": "display_data",
          "data": {
            "text/plain": [
              "<Figure size 720x320 with 2 Axes>"
            ],
            "image/png": "[encoded data removed]"
          },
          "metadata": {}
        }
      ]
    },
    {
      "cell_type": "markdown",
      "source": [
        "# 5. 결과 요약\n",
        "\n",
        "## 최종 F1 기준 순위(튜닝 임계값 적용)\n",
        "| Rank | Model                    | F1 (tuned) |\n",
        "|-----:|--------------------------|-----------:|\n",
        "| 1    | resNet18 (Frozen)        | **0.8636** |\n",
        "| 2    | resNet18 (Fine-tuning)   | 0.8635     |\n",
        "| 3    | resNet18 (Partial)       | 0.8478     |\n",
        "| 4    | SimpleCNN                | 0.8191     |\n",
        "\n",
        "→ Frozen이 근소하게 1위, Fine-tuning이 사실상 동급 성능.\n",
        "\n",
        "## 임계값 튜닝 효과 (Val에서 F1 최대화 → Test 적용)\n",
        "- **전반적 경향:** 정밀도(Precision) ↑, 재현율(Recall) 약간 ↓\n",
        "- **SimpleCNN:** Acc **+3.69%p**, Prec **+0.0293**, Rec **−0.0051**, F1 **+0.0187**\n",
        "- **Partial:** Acc **+2.56%p**, Prec **+0.0228**, Rec **−0.0026**, F1 **+0.0142**\n",
        "- **Fine-tuning:** Acc **+4.49%p**, Prec **+0.0404**, Rec **−0.0026**, F1 **+0.0257**\n",
        "- **Frozen:** 거의 변화 없음 *(임계값 0.49로 미세 조정)*\n",
        "\n",
        "## 오분류 패턴 (혼동행렬 기반 특이도 변화: TN/(TN+FP))\n",
        "| Model                  | Before | After | Δ(pp) |\n",
        "|------------------------|-------:|------:|------:|\n",
        "| SimpleCNN              | 18.8%  | **29.5%** | **+10.7** |\n",
        "| resNet18 (Partial)     | 34.6%  | **41.9%** | **+7.3**  |\n",
        "| resNet18 (Fine-tuning) | 35.5%  | **47.9%** | **+12.4** |\n",
        "| resNet18 (Frozen)      | 51.7%  | 51.3% | −0.4  |\n",
        "\n",
        "→ 목표였던 **False Positive 감소(특이도 개선)** 가 SimpleCNN/Partial/Fine-tuning에서 뚜렷. Frozen은 기본 특이도가 높아 변화가 미미.\n",
        "\n",
        "## 실험/분석 메모\n",
        "- 높은 LR에서 **val loss 스파이크** 발생 → *warmup*, *ReduceLROnPlateau*, *OneCycleLR* 등 스케줄링 시도.\n",
        "- **BatchNorm2d의 running stats는 `requires_grad=False`만으론 고정되지 않음** 확인  \n",
        "  → 동결 블록에 **`.eval()` 강제 적용**(예: layer1~3 / 필요 시 layer4)으로 BN 통계 업데이트 차단 → 스파이크 완화.\n",
        "- 기본 임계값 0.5에서는 **특이도↓(FP 많음)** 경향 → **모델별 최적 임계값** 적용으로 개선."
      ],
      "metadata": {
        "id": "oVp6mYr5vIIA"
      }
    }
  ]
}